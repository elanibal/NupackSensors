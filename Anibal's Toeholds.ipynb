{
 "cells": [
  {
   "cell_type": "code",
   "execution_count": 2,
   "metadata": {},
   "outputs": [],
   "source": [
    "import os\n",
    "import os.path\n",
    "from subprocess import Popen, PIPE\n",
    "import numpy as np\n",
    "import pandas as pd\n",
    "import time\n",
    "\n",
    "\n"
   ]
  },
  {
   "cell_type": "code",
   "execution_count": 3,
   "metadata": {},
   "outputs": [],
   "source": [
    "#The ensemble defect is the average number of incorrectly paired nucleotides at equilibrium over the ensemble of (possible) secondary structures(=shape). \n",
    "#THis functioni returns the comlpex_defect normalized by the lenght of the sequence\n",
    "\n",
    "\n",
    "def complex_defect(sequence, secondary, result_path):\n",
    "    file = open('{}toeh.in'.format(result_path), 'w')\n",
    "    file.write(\"{}\\n\".format(sequence))\n",
    "    file.write(\"{}\".format(secondary))\n",
    "    file.close()\n",
    "\n",
    "    defect_toeh = 0\n",
    "    count = 0\n",
    "    with Popen([\"complexdefect\", \"{}toeh\".format(result_path)], stdout=PIPE) as proc:\n",
    "        res = (proc.stdout.read()).decode(\"utf-8\").split('\\n')  #print(out.decode('utf8')) otra opcion\n",
    "        for l in res:  \n",
    "            \n",
    "            count += 1\n",
    "            if count == 16:\n",
    "                defect_toeh = float(l)\n",
    "    os.remove(\"{}toeh.in\".format(result_path))\n",
    "    return defect_toeh  "
   ]
  },
  {
   "cell_type": "code",
   "execution_count": 4,
   "metadata": {},
   "outputs": [
    {
     "name": "stdout",
     "output_type": "stream",
     "text": [
      "0\n",
      "0\n",
      "0\n"
     ]
    }
   ],
   "source": [
    "lista_de_secuencias=[\"UUUGUUUGGUAACUGCGUCGA\",\"UUUGUUUGGUAACUGCGUCUU\",\"uuuuuuuuuuuuuuuuuuuuuuuuuuugggggggggguuucccccuuuuuuuuuuuugggggggguuuucccccccccccuuuuuuuuuuuuuuuuuuuuuuuu\"]\n",
    "for i in range(len(lista_de_secuencias)):\n",
    "    \n",
    "    print(complex_defect(lista_de_secuencias[i],\".........................(((((((((((...(((((............)))))...)))))))))))......................\",\"\"))\n",
    "\n"
   ]
  },
  {
   "cell_type": "code",
   "execution_count": 6,
   "metadata": {},
   "outputs": [
    {
     "data": {
      "text/plain": [
       "0.5361"
      ]
     },
     "execution_count": 6,
     "metadata": {},
     "output_type": "execute_result"
    }
   ],
   "source": [
    "complex_defect(\"uuuuuuuuUUGUUCUUUUGUCUuuuuuuuu\",'((((((((..............))))))))',\"\")"
   ]
  },
  {
   "cell_type": "code",
   "execution_count": 46,
   "metadata": {},
   "outputs": [],
   "source": [
    "def parse_pairs_result(res, length):\n",
    "    final = []\n",
    "    for r in res:\n",
    "        r = r.strip('\\n')\n",
    "        if not r.startswith('%'):\n",
    "            r = r.split('\\t')\n",
    "            if len(r) == 3:\n",
    "                if r[1] == str(length+1):\n",
    "                    final.append(float(r[2]))\n",
    "\n",
    "    return final"
   ]
  },
  {
   "cell_type": "code",
   "execution_count": 40,
   "metadata": {},
   "outputs": [],
   "source": [
    "# pairs function was used to compute base pairing probabilities for all\n",
    "# pairs of bases over the entire \n",
    "# mRNA. The  resulting  pair  probability  matrix  was  used  to  compute\n",
    "# the local single-strandedness for all possible sensor binding sites along the trigger mRNA. \n",
    "#This metric is  calculated using the following equation: \n",
    "    \n",
    "def single_streadness(sequence, result_path, wait=1):\n",
    "    file = open('{}pipo.in'.format(result_path), 'w')\n",
    "    file.write(\"{}\\n\".format(sequence))\n",
    "    file.close()\n",
    "\n",
    "    Popen([\"pairs\", \"{}pipo\".format(result_path)], stdout=PIPE)\n",
    "    time.sleep(wait)\n",
    "    with open(\"{}pipo.ppairs\".format(result_path)) as res:\n",
    "        parsed_res = parse_pairs_result(res, len(sequence))\n",
    "\n",
    "    os.remove(\"{}pipo.ppairs\".format(result_path,))\n",
    "    os.remove(\"{}pipo.in\".format(result_path))\n",
    "\n"
   ]
  },
  {
   "cell_type": "code",
   "execution_count": 59,
   "metadata": {},
   "outputs": [
    {
     "name": "stdout",
     "output_type": "stream",
     "text": [
      "26\n"
     ]
    }
   ],
   "source": [
    "print(len(sequence))"
   ]
  },
  {
   "cell_type": "code",
   "execution_count": 73,
   "metadata": {},
   "outputs": [
    {
     "name": "stdout",
     "output_type": "stream",
     "text": [
      "12\n",
      "13\n",
      "11\n",
      "10\n",
      "11\n",
      "9\n",
      "10\n",
      "14\n",
      "13\n",
      "20\n",
      "23\n",
      "25\n",
      "12\n",
      "20\n",
      "21\n",
      "22\n",
      "25\n",
      "16\n",
      "18\n",
      "20\n",
      "25\n",
      "15\n",
      "17\n",
      "19\n",
      "24\n",
      "16\n",
      "18\n",
      "23\n",
      "16\n",
      "22\n",
      "21\n",
      "17\n",
      "19\n",
      "17\n",
      "19\n",
      "21\n",
      "20\n",
      "25\n",
      "24\n",
      "26\n",
      "23\n",
      "25\n",
      "24\n",
      "26\n",
      "23\n",
      "25\n",
      "24\n",
      "27\n",
      "27\n",
      "27\n",
      "27\n",
      "27\n",
      "27\n",
      "27\n",
      "27\n",
      "27\n",
      "27\n",
      "27\n",
      "27\n",
      "27\n",
      "27\n",
      "27\n",
      "27\n",
      "27\n",
      "27\n",
      "27\n",
      "27\n",
      "27\n",
      "27\n",
      "27\n",
      "27\n",
      "27\n",
      "27\n"
     ]
    }
   ],
   "source": [
    "file = open('{}pipo.in'.format(''), 'w')\n",
    "sequence=\"AUUUGGGCGGAUUAGCGCGCUUCGCG\"\n",
    "file.write(\"{}\\n\".format(sequence))\n",
    "file.close()\n",
    "\n",
    "Popen([\"pairs\", \"{}pipo\".format('')], stdout=PIPE)\n",
    "time.sleep(1)\n",
    "with open(\"{}pipo.ppairs\".format(''),\"r\") as res:\n",
    "    final = []\n",
    "    length=len(sequence)\n",
    "    for r in res:\n",
    "        r = r.strip('\\n')   # The strip() method removes whitespace by default\n",
    "        \n",
    "        if not r.startswith('%'): # remove the info of energy and general parameters\n",
    "            r = r.split('\\t')\n",
    "            if len(r) == 3: #consider only the pairs info\n",
    "                print(r[1])\n",
    "                #if r[1] == str(length+1):\n",
    "                  #  final.append(float(r[2]))\n",
    "#final\n",
    "    #parsed_res = parse_pairs_result(res, len(sequence))\n",
    "#parsed_res\n",
    "#os.remove(\"{}pipo.ppairs\".format(result_path,))\n",
    "#os.remove(\"{}pipo.in\".format(result_path))"
   ]
  },
  {
   "cell_type": "code",
   "execution_count": null,
   "metadata": {},
   "outputs": [],
   "source": []
  },
  {
   "cell_type": "code",
   "execution_count": 16,
   "metadata": {},
   "outputs": [
    {
     "data": {
      "text/plain": [
       "331.0914970542981"
      ]
     },
     "execution_count": 16,
     "metadata": {},
     "output_type": "execute_result"
    }
   ],
   "source": [
    "single_streadness(\"AUUUGGGCGGAUUAGCGCGCUUCGCG\",\"\",wait=1)"
   ]
  },
  {
   "cell_type": "code",
   "execution_count": null,
   "metadata": {},
   "outputs": [],
   "source": []
  }
 ],
 "metadata": {
  "kernelspec": {
   "display_name": "Python 3",
   "language": "python",
   "name": "python3"
  },
  "language_info": {
   "codemirror_mode": {
    "name": "ipython",
    "version": 3
   },
   "file_extension": ".py",
   "mimetype": "text/x-python",
   "name": "python",
   "nbconvert_exporter": "python",
   "pygments_lexer": "ipython3",
   "version": "3.6.4"
  }
 },
 "nbformat": 4,
 "nbformat_minor": 2
}
