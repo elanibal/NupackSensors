{
 "cells": [
  {
   "cell_type": "markdown",
   "metadata": {},
   "source": [
    "# Building a new sensor\n",
    "1. Define a specific sequence\n",
    "2. Divide the sequence in windows of the same length of the trigger (36nt)\n",
    "3. For each possible trigger, define a toehold sensor sequence\n",
    "4. Filter sequences that contain stop codons\n",
    "5. Evaluate sequence properties using NUPACK and rank them"
   ]
  },
  {
   "cell_type": "markdown",
   "metadata": {},
   "source": [
    "### Import dependencies"
   ]
  },
  {
   "cell_type": "code",
   "execution_count": 2,
   "metadata": {},
   "outputs": [],
   "source": [
    "import os\n",
    "import os.path\n",
    "from subprocess import Popen, PIPE\n",
    "import numpy as np\n",
    "import pandas as pd\n",
    "import time\n",
    "import matplotlib.pyplot as plt\n",
    "import seaborn as sns\n",
    "import scipy\n",
    "import statsmodels.api as sm\n",
    "from skbio import Sequence"
   ]
  },
  {
   "cell_type": "markdown",
   "metadata": {},
   "source": [
    "### Define library functions"
   ]
  },
  {
   "cell_type": "code",
   "execution_count": 10,
   "metadata": {},
   "outputs": [],
   "source": [
    "def reversed_complement(sequence):\n",
    "    mapping = {'A': 'U', 'G': 'C', 'U': 'A', 'C': 'G'}\n",
    "    sequence_upper = sequence.upper()\n",
    "\n",
    "    complement = ''\n",
    "    for c in sequence_upper:\n",
    "        complement += mapping[c]\n",
    "\n",
    "    # reverse the sequence\n",
    "    return complement[::-1]\n",
    "\n",
    "def split_sequence(sequence, window):\n",
    "    sequences = []\n",
    "    limit = len(sequence) - window + 1\n",
    "\n",
    "    for i in range(0, limit):\n",
    "        sequences.append(sequence[i:window + i])\n",
    "\n",
    "    return sequences\n",
    "\n",
    "def no_stop(sequence):\n",
    "    stop = ['UAA', 'UAG', 'UGA']\n",
    "\n",
    "    for i in range(0, len(sequence), 3):\n",
    "        if sequence[i:i + 3] in stop:\n",
    "            return False\n",
    "\n",
    "    return True\n",
    "\n",
    "def possible_toehold_B(reg, rev):\n",
    "    loop = 'GGACUUUAGAACAGAGGAGAUAAAGAUG'\n",
    "\n",
    "    #What is the RBS ?\n",
    "    linker = 'ACCTGGCGGCAGCGCAAGAAGA'#( from Green paper 2019 se, modified with an extra A for creating C site MOCLO)\n",
    "    #linker = \"AACCUGGCGGCAGCGCAAGAAGAUGCGUAAA\" \n",
    "    toeholds = []\n",
    "\n",
    "    #for n in ['A', 'G', 'U', 'C']:\n",
    "    if no_stop(reg[0:11] + linker):\n",
    "            toeholds.append(rev + loop + reg[0:11] + linker)\n",
    "            return toeholds\n",
    "      \n",
    "    \n",
    "    toeholds.append(\"STOP\")\n",
    "    return toeholds"
   ]
  },
  {
   "cell_type": "markdown",
   "metadata": {},
   "source": [
    "### Step 1: Define a target sequence\n",
    "In this case, we use the  5' of the glycoprotein 1 from PVY:"
   ]
  },
  {
   "cell_type": "code",
   "execution_count": 4,
   "metadata": {},
   "outputs": [],
   "source": [
    "seq = \"ATGGCAACTTACATGTCAACAATCTGTTTTGGTTCGTTTGAATGCAAGCTACCATACTCACCAGCCTCTTGCGAGCATATTGTGAAGGAACGAGAAGTGCCGGCTTCCGTTGATCCTTTCGCAGATCTGGAAACACAACTTAGTGCACGATTGCTCAAGCAAAAATATGCTACTGTTCGTGTGCTCAAAAACGGTACTTTTACGTACCGATACAAGACTGATGCCCAGATAATGCGCATTCAGAAGAAACTGGAGAGGAAGGATAGGGAAGAATATCACTTCCAAATGGCCGCTCCTAGTATTGTGTCAAAAATTACTATAGCTGGCGGAGATCCTCCATCAAAGTCTGAGCCACAAGCACCAAGAGGGATCATTCATACAACTCCAAGGATGCGTAAAGTCAAGACACGCCCCATAATAAAGTTGACAGAAGGCCAGATGAATCACCTCATTAAGCAGATAAAACAGATTATGTCGGAGAAAAGAGGGTCTGTCCACTTAATTAGTAAGAAAACCACTCATGTTCAATATAAGAAGATACTTGGTGCATACTCCGCAGCGGTTCGAACTGCACATATGATGGGTTTGCGACGGAGAGTGGACTTCCGATGTGATATGTGGACAGTTGGACTTTTGCAACGTCTCGCTCGGACGGACAAATGGTCCAATCAAGTCCGCACTATCAACATACGAAGGGGTGATAGTGGAGTCATCTTGAACACAAAAAGCCTCAAAGGCCACTTTGGTAGAAGTTCAGGAGGCTTGTTCATAGTGCGTGGATCACACGAAGGGAAATTGTATGATGCACGTTCTAGAGTTACTCAGAGTATTTTAAACTCAATGATCCAGTTTTCGAATGCCGACAATTTTTGGAAGGGTCTGGACGGTAATTGGGCACGAATGAGATATCCTTCGGATCACACATGTGTAGCTGGTTTACCTGTCGAAGATTGTGGTAGGGTAGCTGCATTGATGGCACACAGTATCCTTCCGTGCTATAAGATAACTTGCCCCACCTGTGCTCAACAGTATGCCAGCTTGCCAGTTAGC\""
   ]
  },
  {
   "cell_type": "markdown",
   "metadata": {},
   "source": [
    "Convert to RNA and determine the reverse complement"
   ]
  },
  {
   "cell_type": "code",
   "execution_count": 6,
   "metadata": {},
   "outputs": [],
   "source": [
    "processed_sequence = seq.upper().replace('T', 'U') #/.replace(' ', '')\n",
    "rc = reversed_complement(processed_sequence)\n",
    "len(split_sequence(rc,36))"
   ]
  },
  {
   "cell_type": "markdown",
   "metadata": {},
   "source": [
    "### Step 2: Determine 36-nucleotide sub-sequences\n",
    "To do this, we make all possible triggers for the direct and reversed complementary sequence"
   ]
  },
  {
   "cell_type": "code",
   "execution_count": 13,
   "metadata": {},
   "outputs": [],
   "source": [
    "d_1 = {'Triggers': split_sequence(processed_sequence,36)}\n",
    "df_1 = pd.DataFrame(data=d_1)\n",
    "df_1[\"Sense\"]=\"Direct\"\n",
    "\n",
    "d_2 = {'Triggers': split_sequence(rc,36)}\n",
    "df_2 = pd.DataFrame(data=d_2)\n",
    "df_2[\"Sense\"]=\"Reversed Complement\"\n",
    "frames = [df_1, df_2]\n",
    "result = pd.concat(frames)\n",
    "#result"
   ]
  },
  {
   "cell_type": "markdown",
   "metadata": {},
   "source": [
    "### Step 3: For each trigger, design a toehold sensor"
   ]
  },
  {
   "cell_type": "code",
   "execution_count": 14,
   "metadata": {},
   "outputs": [],
   "source": [
    "toeholds=[]\n",
    "for i in range(len(result.iloc[:,0])):\n",
    "    toeholds.append((possible_toehold_B(result.iloc[i,0],reversed_complement(result.iloc[i,0])))[0])\n",
    "a=pd.Series(toeholds)\n",
    "result[\"Toehold Switch\"]=a.values\n",
    "#result"
   ]
  },
  {
   "cell_type": "markdown",
   "metadata": {},
   "source": [
    "### Step 4: Remove sensors with STOP codons"
   ]
  },
  {
   "cell_type": "code",
   "execution_count": 19,
   "metadata": {},
   "outputs": [],
   "source": [
    "df = result[result.iloc[:,2] != \"STOP\"]\n",
    "#df"
   ]
  },
  {
   "cell_type": "markdown",
   "metadata": {},
   "source": [
    "### Step 5: Evaluate sequence properties using NUPACK \n",
    "\n",
    "Scoring functions from Green (2019):\n",
    "- Three-parameter fit (R2 = 0.57):\n",
    "- Fold change = –71.7 dfull_sensor  – 49.1 dactive_sensor – 22.6 dbinding_site + 54.3\n",
    "- Four-parameter fit (R2 = 0.60):\n",
    "- Fold change = –93.2 dfull_sensor – 43.3 dactive_sensor – 22.1 dbinding_site – 9.4 dmin_target + 61.3"
   ]
  },
  {
   "cell_type": "markdown",
   "metadata": {},
   "source": [
    "### Library functions\n",
    "- Calculation of the minimum free energy (MFE) secondary structure of a singular RNA sequence\n",
    "- NUPACK analysis"
   ]
  },
  {
   "cell_type": "code",
   "execution_count": 12,
   "metadata": {},
   "outputs": [],
   "source": [
    "def DG(sequence,result_path,wait):\n",
    "    file = open('{}pipo.in'.format(result_path), 'w')\n",
    "    file.write(\"{}\\n\".format(sequence))\n",
    "    file.close()\n",
    "    final=[]\n",
    "    semi_final=[]\n",
    "\n",
    "    Popen([\"mfe -T 29 {}pipo\".format(result_path)],shell=True, stdout=PIPE)\n",
    "    time.sleep(wait)\n",
    "    lenght=len(sequence)\n",
    "    with open(\"{}pipo.mfe\".format(result_path)) as res:\n",
    "        for r in res:\n",
    "            r = r.strip('\\n')\n",
    "            if not r.startswith('%'):\n",
    "                r = r.split('\\t')\n",
    "                semi_final.append(r)\n",
    "\n",
    "    #final.append()                \n",
    "\n",
    "    return (float(semi_final[2][0]))\n",
    "\n",
    "    os.remove(\"{}pipo.mfe\".format(result_path,))\n",
    "    os.remove(\"{}pipo.in\".format(result_path))\n",
    "\n",
    "def nupack_analysis(sequence, secondary_sensor,  window, sensor_type, result_path):\n",
    "    list_for_table = []\n",
    "\n",
    "    processed_sequence = sequence.upper().replace('T', 'U').replace(' ', '')\n",
    "    reg_sequences = split_sequence(processed_sequence, window)\n",
    "    rev_comp_sequences = [reversed_complement(s) for s in reg_sequences]\n",
    "\n",
    "    if sensor_type == 'A':\n",
    "        target_toehold_map = possible_toehold_A(reg_sequences, rev_comp_sequences)\n",
    "    else:\n",
    "        target_toehold_map = possible_toehold_B(reg_sequences, rev_comp_sequences)\n",
    "\n",
    "    sequence = sequence.upper().replace('T', 'U')\n",
    "    single_streadness_sequence = single_streadness(sequence, result_path, wait=6)\n",
    "    for target, toehold in target_toehold_map.items():\n",
    "        id = sequence.index(target)\n",
    "\n",
    "        target_defect = sum(single_streadness_sequence[id:id+36])/36\n",
    "        toehold_defect = sum(single_streadness(toehold, result_path)[0:30])/30\n",
    "        sensor_defect = complex_defect(toehold, secondary_sensor, result_path)\n",
    "\n",
    "        score = 5*(1-target_defect) + 4*(1-toehold_defect) + 3*sensor_defect\n",
    "\n",
    "        list_for_table.append(tuple([target[0:36], toehold, 1-target_defect, 1-toehold_defect, sensor_defect, score]))\n",
    "\n",
    "    return list_for_table"
   ]
  },
  {
   "cell_type": "markdown",
   "metadata": {},
   "source": [
    "Structure of the designed optimal interaction betwen a Sensor and its trigger"
   ]
  },
  {
   "cell_type": "code",
   "execution_count": 17,
   "metadata": {},
   "outputs": [],
   "source": [
    "secondary_2=\".......................................(((((............)))))....................................+....................................\""
   ]
  },
  {
   "cell_type": "code",
   "execution_count": 18,
   "metadata": {},
   "outputs": [],
   "source": [
    "secondary_sensor_B = '.........................(((((((((((...(((((............)))))...)))))))))))......................'"
   ]
  }
 ],
 "metadata": {
  "kernelspec": {
   "display_name": "Python [conda env:py35]",
   "language": "python",
   "name": "conda-env-py35-py"
  },
  "language_info": {
   "codemirror_mode": {
    "name": "ipython",
    "version": 3
   },
   "file_extension": ".py",
   "mimetype": "text/x-python",
   "name": "python",
   "nbconvert_exporter": "python",
   "pygments_lexer": "ipython3",
   "version": "3.5.5"
  }
 },
 "nbformat": 4,
 "nbformat_minor": 2
}
