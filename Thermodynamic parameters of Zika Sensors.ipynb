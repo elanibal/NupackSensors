{
 "cells": [
  {
   "cell_type": "markdown",
   "metadata": {},
   "source": [
    "# Thermodynamic parameters of Zika Sensors"
   ]
  },
  {
   "cell_type": "markdown",
   "metadata": {},
   "source": [
    "## Importing usefull packages and definition of funcions"
   ]
  },
  {
   "cell_type": "code",
   "execution_count": 20,
   "metadata": {},
   "outputs": [],
   "source": [
    "import os\n",
    "import os.path\n",
    "from subprocess import Popen, PIPE\n",
    "import numpy as np\n",
    "import pandas as pd\n",
    "import time\n",
    "import matplotlib.pyplot as plt\n",
    "import seaborn as sns\n",
    "import scipy\n",
    "import statsmodels.api as sm"
   ]
  },
  {
   "cell_type": "code",
   "execution_count": 21,
   "metadata": {},
   "outputs": [],
   "source": [
    "def reversed_complement(sequence):\n",
    "    mapping = {'A': 'U', 'G': 'C', 'U': 'A', 'C': 'G'}\n",
    "    sequence_upper = sequence.upper()\n",
    "\n",
    "    complement = ''\n",
    "    for c in sequence_upper:\n",
    "        complement += mapping[c]\n",
    "\n",
    "    # reverse the sequence\n",
    "    return complement[::-1]"
   ]
  },
  {
   "cell_type": "code",
   "execution_count": 22,
   "metadata": {},
   "outputs": [],
   "source": [
    "def split_sequence(sequence, window):\n",
    "    sequences = []\n",
    "    limit = len(sequence) - window + 1\n",
    "\n",
    "    for i in range(0, limit):\n",
    "        sequences.append(sequence[i:window + i])\n",
    "\n",
    "    return sequences"
   ]
  },
  {
   "cell_type": "code",
   "execution_count": 23,
   "metadata": {},
   "outputs": [],
   "source": [
    "# Calculation of the minimum free energy (MFE) secondary structure of a singular RNA sequence\n",
    "\n",
    "def DG(sequence,result_path,wait):\n",
    "    file = open('{}pipo.in'.format(result_path), 'w')\n",
    "    file.write(\"{}\\n\".format(sequence))\n",
    "    file.close()\n",
    "    final=[]\n",
    "    semi_final=[]\n",
    "\n",
    "    Popen([\"mfe -T 23 {}pipo\".format(result_path)],shell=True, stdout=PIPE)\n",
    "    time.sleep(wait)\n",
    "    lenght=len(sequence)\n",
    "    with open(\"{}pipo.mfe\".format(result_path)) as res:\n",
    "        for r in res:\n",
    "            r = r.strip('\\n')\n",
    "            if not r.startswith('%'):\n",
    "                r = r.split('\\t')\n",
    "                semi_final.append(r)\n",
    "\n",
    "    #final.append()                \n",
    "\n",
    "    return (float(semi_final[2][0]))\n",
    "\n",
    "    os.remove(\"{}pipo.mfe\".format(result_path,))\n",
    "    os.remove(\"{}pipo.in\".format(result_path))\n"
   ]
  },
  {
   "cell_type": "code",
   "execution_count": 24,
   "metadata": {},
   "outputs": [],
   "source": [
    "# Calculation of the minimum free energy (MFE) secondary structure of a complex formed out of two equimolar RNA sequences\n",
    "def DG_2(sequence1, sequence2, result_path,wait):\n",
    "    \n",
    "    \n",
    "    file = open(\"{}Pipe.in\".format(result_path), 'w')\n",
    "    file.write(\"{}\\n\".format(\"2\"))\n",
    "    file.write(\"{}\\n\".format(sequence1))\n",
    "    file.write(\"{}\\n\".format(sequence2))\n",
    "    file.write(\"{}\\n\".format(\"1 2\"))\n",
    "    file.close()\n",
    "\n",
    "    semi_final=[]\n",
    "    Popen([\"mfe -multi {}Pipe\".format(result_path)],shell=True, stdout=PIPE)\n",
    "    time.sleep(wait)\n",
    "    #lenght=len(sequence)\n",
    "    with open(\"{}Pipe.mfe\".format(result_path)) as res:\n",
    "        for r in res:\n",
    "            r = r.strip('\\n')\n",
    "            if not r.startswith('%'):\n",
    "                r = r.split('\\t')\n",
    "                semi_final.append(r)\n",
    "    os.remove(\"{}Pipe.in\".format(result_path))\n",
    "    os.remove(\"{}Pipe.mfe\".format(result_path))            \n",
    "    return (float(semi_final[2][0]))"
   ]
  },
  {
   "cell_type": "code",
   "execution_count": 25,
   "metadata": {},
   "outputs": [],
   "source": [
    "\n",
    "def norm_Toehold_single_streadness(sequence, result_path, wait=1):\n",
    "    file = open('{}pipo.in'.format(result_path), 'w')\n",
    "    file.write(\"{}\\n\".format(sequence))\n",
    "    file.close()\n",
    "\n",
    "    Popen([\"pairs\", \"{}pipo\".format(result_path)], stdout=PIPE)\n",
    "    time.sleep(wait)\n",
    "    with open(\"{}pipo.ppairs\".format(result_path)) as res:\n",
    "        parsed_res = parse_pairs_result(res, len(sequence))\n",
    "\n",
    "        \n",
    "    os.remove(\"{}pipo.ppairs\".format(result_path,))\n",
    "    os.remove(\"{}pipo.in\".format(result_path))\n",
    "    sin=parsed_res\n",
    "    \n",
    "    toehold=sin[0:24]\n",
    "    single=(np.sum(toehold)/len(toehold))\n",
    "    return single"
   ]
  },
  {
   "cell_type": "code",
   "execution_count": 26,
   "metadata": {},
   "outputs": [],
   "source": [
    "\n",
    "def norm_single_streadness(sequence, result_path, wait=1):\n",
    "    file = open('{}pipo.in'.format(result_path), 'w')\n",
    "    file.write(\"{}\\n\".format(sequence))\n",
    "    file.close()\n",
    "\n",
    "    Popen([\"pairs\", \"{}pipo\".format(result_path)], stdout=PIPE)\n",
    "    time.sleep(wait)\n",
    "    with open(\"{}pipo.ppairs\".format(result_path)) as res:\n",
    "        parsed_res = parse_pairs_result(res, len(sequence))\n",
    "\n",
    "        \n",
    "    os.remove(\"{}pipo.ppairs\".format(result_path,))\n",
    "    os.remove(\"{}pipo.in\".format(result_path))\n",
    "    sin=parsed_res\n",
    "    \n",
    "    #toehold=sin[0:24]\n",
    "    #single=np.sum(single)/len(single))\n",
    "    single=(np.sum(sin)/len(sin))\n",
    "\n",
    "\n",
    "    return single"
   ]
  },
  {
   "cell_type": "code",
   "execution_count": 27,
   "metadata": {},
   "outputs": [],
   "source": [
    "def parse_pairs_result(res, length):\n",
    "    final = []\n",
    "    for r in res:\n",
    "        r = r.strip('\\n')\n",
    "        if not r.startswith('%'):\n",
    "            r = r.split('\\t')\n",
    "            if len(r) == 3:\n",
    "                if r[1] == str(length+1):\n",
    "                    final.append(float(r[2]))\n",
    "\n",
    "    return final"
   ]
  },
  {
   "cell_type": "code",
   "execution_count": 28,
   "metadata": {},
   "outputs": [],
   "source": [
    "\n",
    "def complex_defect(sequence, secondary, result_path):\n",
    "    file = open('{}toeh.in'.format(result_path), 'w')\n",
    "    file.write(\"{}\\n\".format(sequence))\n",
    "    file.write(\"{}\".format(secondary))\n",
    "    file.close()\n",
    "\n",
    "    defect_toeh = 0\n",
    "    count = 0\n",
    "    with Popen([\"complexdefect\", \"{}toeh\".format(result_path)], stdout=PIPE) as proc:\n",
    "        res = (proc.stdout.read()).decode(\"utf-8\").split('\\n')\n",
    "        for l in res:\n",
    "            count += 1\n",
    "            if count == 16:\n",
    "                defect_toeh = float(l)\n",
    "\n",
    "    os.remove(\"{}toeh.in\".format(result_path))\n",
    "    return defect_toeh"
   ]
  },
  {
   "cell_type": "code",
   "execution_count": 29,
   "metadata": {},
   "outputs": [],
   "source": [
    "\n",
    "def complex_defect_2(sequenceA,sequenceB, secondary, result_path,wait):\n",
    "    file = open(\"{}toeh.in\".format(result_path), 'w')\n",
    "    file.write(\"{}\\n\".format(\"2\"))\n",
    "    file.write(\"{}\\n\".format(sequenceA))\n",
    "    file.write(\"{}\\n\".format(sequenceB))\n",
    "    file.write(\"{}\\n\".format(\"1 2\"))\n",
    "    file.write(\"{}\\n\".format(secondary))\n",
    "    file.close()\n",
    "\n",
    "    defect_toeh = 0\n",
    "    count = 0\n",
    "    with Popen([\"complexdefect -multi {}toeh\".format(result_path)],shell=True, stdout=PIPE) as proc:\n",
    "        time.sleep(wait)\n",
    "     \n",
    "    \n",
    "        res= (proc.stdout.read()).decode(\"utf-8\").split('\\n')\n",
    "    #print ('STDOUT:{}'.format(stdout))\n",
    "    #output = process.stdout.readline()\n",
    "    #process.poll()\n",
    "    \n",
    "    #a=stdout.splitlines()\n",
    "    \n",
    "    os.remove(\"{}toeh.in\".format(result_path))\n",
    "    \n",
    "    return res[-2]\n",
    "\n"
   ]
  },
  {
   "cell_type": "code",
   "execution_count": 30,
   "metadata": {},
   "outputs": [],
   "source": [
    "\n",
    "def all_single_streadness(sequence, result_path, wait=1):\n",
    "    file = open('{}pipo.in'.format(result_path), 'w')\n",
    "    file.write(\"{}\\n\".format(sequence))\n",
    "    file.close()\n",
    "\n",
    "    Popen([\"pairs\", \"{}pipo\".format(result_path)], stdout=PIPE)\n",
    "    time.sleep(wait)\n",
    "    with open(\"{}pipo.ppairs\".format(result_path)) as res:\n",
    "        parsed_res = parse_pairs_result(res, len(sequence))\n",
    "\n",
    "    os.remove(\"{}pipo.ppairs\".format(result_path,))\n",
    "    os.remove(\"{}pipo.in\".format(result_path))\n",
    "    sin=parsed_res\n",
    "    \n",
    "\n",
    "\n",
    "    return sin"
   ]
  },
  {
   "cell_type": "markdown",
   "metadata": {},
   "source": [
    "## Loadding results"
   ]
  },
  {
   "cell_type": "code",
   "execution_count": 31,
   "metadata": {},
   "outputs": [],
   "source": [
    "#Read results\n",
    "Serie_A=pd.read_csv(\"Serie_A.csv\")\n",
    "Serie_A['Serie'] = 'Serie A'\n"
   ]
  },
  {
   "cell_type": "code",
   "execution_count": 32,
   "metadata": {},
   "outputs": [],
   "source": [
    "#Read results\n",
    "Serie_B=pd.read_csv(\"Serie_B.csv\")\n",
    "#a[\"Sensor\"]=ind\n",
    "Serie_B['Serie'] = 'Serie B'"
   ]
  },
  {
   "cell_type": "code",
   "execution_count": 33,
   "metadata": {},
   "outputs": [],
   "source": [
    "#Concatenate the two dataframes\n",
    "frames=[Serie_A,Serie_B]\n",
    "result_2 = pd.concat(frames)\n",
    "result_2;"
   ]
  },
  {
   "cell_type": "markdown",
   "metadata": {},
   "source": [
    "\n",
    "## Comparison of Series A and Series B \n",
    "\n",
    "#### Avegage ON/Off rate distributions of Series A and  B are similar but higher values are observed in Series B. Also, both series have several sensors that show poor ON-OFF rate, which indicates a low probability of succes in the design of effective sensors. Also in ZIka's paper, they showed that Series B popultion have lower background than Series A."
   ]
  },
  {
   "cell_type": "code",
   "execution_count": 34,
   "metadata": {},
   "outputs": [
    {
     "data": {
      "image/png": "[encoded data removed]",
      "text/plain": [
       "<matplotlib.figure.Figure at 0x7f00bd197ac8>"
      ]
     },
     "metadata": {},
     "output_type": "display_data"
    }
   ],
   "source": [
    "\n",
    "f, ax = plt.subplots(figsize=(10,5))\n",
    "\n",
    "sns.barplot(x=result_2.Sensor,y=result_2.iloc[:,1],hue=result_2.Serie)\n",
    "plt.tight_layout()\n"
   ]
  },
  {
   "cell_type": "code",
   "execution_count": 35,
   "metadata": {},
   "outputs": [
    {
     "data": {
      "text/plain": [
       "<matplotlib.axes._subplots.AxesSubplot at 0x7f00bcf3ada0>"
      ]
     },
     "execution_count": 35,
     "metadata": {},
     "output_type": "execute_result"
    },
    {
     "data": {
      "image/png": "[encoded data removed]",
      "text/plain": [
       "<matplotlib.figure.Figure at 0x7f00bceee2b0>"
      ]
     },
     "metadata": {},
     "output_type": "display_data"
    }
   ],
   "source": [
    "sns.boxplot(x=result_2.iloc[:,1],y=result_2.Serie)"
   ]
  },
  {
   "cell_type": "markdown",
   "metadata": {},
   "source": [
    "## Calculating thermodynamic parameters of Series B sensors \n"
   ]
  },
  {
   "cell_type": "markdown",
   "metadata": {},
   "source": [
    "### Parameter definitions:\n",
    "#### Dg_Switch: is the Free Energy of the longer switch RNA composing the first 97 nt after the GGG leadder sequence.\n",
    "#### Dg_Trigger: is the Free Energy of the entire trigger RNA composing 36 nt that bind to the toehold domain and the displacement sequence\n",
    "#### Single_Streadness_Trigger: Is the normalized single streadness of the trigger RNA\n",
    "#### Dg_RBS_linker: Represents the minimum free energy (MFE) secondary structure of the sequence between the RBS until the start of the \"linker\" nucleotide position 47 until 9.\n",
    "#### Trigger_Deffect: Represents the average number of paired nucleotides at equilibrium in the trigger RNA. This is a quantification of a \"normalized defect\", because the trigger optimal design is a perfectlly single stranded sequence.\n",
    "#### Sensor_Defect: representing the average number of incorrectly paired nucleotides at equilibrium evaluated over the ensemble of the complex \n",
    "#### sensor designed optimal structure: \".........................(((((((((((...(((((............)))))...)))))))))))......................\"\n"
   ]
  },
  {
   "cell_type": "code",
   "execution_count": 36,
   "metadata": {},
   "outputs": [],
   "source": [
    "Dg_Switch=[]\n",
    "for i in range(len(Serie_B.iloc[:,2])):\n",
    "    Dg_Switch.append(DG(Serie_B.iloc[i,2],\"Temp/\",1))\n",
    "P1=pd.Series(Dg_Switch)\n",
    "Serie_B[\"DeltaG_Switch\"]=P1.values"
   ]
  },
  {
   "cell_type": "code",
   "execution_count": 37,
   "metadata": {},
   "outputs": [],
   "source": [
    "Dg_trigger=[]\n",
    "for i in range(len(Serie_B.iloc[:,3])):\n",
    "    Dg_trigger.append(DG(Serie_B.iloc[i,3],\"Temp/\",1))\n",
    "P2=pd.Series(Dg_trigger)\n",
    "Serie_B[\"DeltaG_Trigger\"]=P2.values"
   ]
  },
  {
   "cell_type": "code",
   "execution_count": 41,
   "metadata": {},
   "outputs": [],
   "source": [
    "SS_Trigger=[]\n",
    "for i in range(len(Serie_B.iloc[:,3])):\n",
    "    SS_Trigger.append(norm_single_streadness(Serie_B.iloc[i,3],\"Temp/\",2))\n",
    "P3=pd.Series(SS_Trigger)\n",
    "Serie_B[\"Single_Streadness_Trigger\"]=P3.values"
   ]
  },
  {
   "cell_type": "code",
   "execution_count": 42,
   "metadata": {},
   "outputs": [],
   "source": [
    "Dg_RBS_linker=[]\n",
    "for i in range(len(Serie_B.iloc[:,3])):\n",
    "    RBS_linker=Serie_B.iloc[i,2][48:96]\n",
    "    Dg_RBS_linker.append(DG(RBS_linker,\"\",2))\n",
    "P4=pd.Series(Dg_RBS_linker)\n",
    "Serie_B[\"Dg_RBS_linker\"]=P4.values"
   ]
  },
  {
   "cell_type": "code",
   "execution_count": 43,
   "metadata": {},
   "outputs": [],
   "source": [
    "dTrigger=[]\n",
    "for i in range(len(Serie_B.iloc[:,8])):\n",
    "    dTrigger.append(1-Serie_B.iloc[i,8])\n",
    "P5=pd.Series(dTrigger)\n",
    "Serie_B[\"Trigger_Deffect\"]=P5.values\n",
    "\n",
    "sensor_des_structure=\".........................(((((((((((...(((((............)))))...)))))))))))......................\"\n",
    "\n",
    "Sensor_Defect=[]\n",
    "for i in range(len(Serie_B.iloc[:,2])): \n",
    "    Sensor_Defect.append(complex_defect(Serie_B.iloc[i,2],sensor_des_structure,\"Temp/\"))\n",
    "P6=pd.Series(Sensor_Defect)\n",
    "Serie_B[\"Sensor_Defect\"]=P6.values"
   ]
  },
  {
   "cell_type": "code",
   "execution_count": 44,
   "metadata": {},
   "outputs": [],
   "source": [
    "dToehold=[]\n",
    "for i in range(len(Serie_B.iloc[:,8])):\n",
    "    dToehold.append(norm_Toehold_single_streadness(Serie_B.iloc[i,2],\"\",2))\n",
    "P7=pd.Series(dToehold)\n",
    "Serie_B[\"Toehold_Deffect\"]=P7.values"
   ]
  },
  {
   "cell_type": "code",
   "execution_count": 47,
   "metadata": {},
   "outputs": [],
   "source": [
    "# this is the structure of the designed optimal interaction betwen a Sensor and its trigger\n",
    "secondary_2=\".......................................(((((............)))))....................................+....................................\""
   ]
  },
  {
   "cell_type": "code",
   "execution_count": 48,
   "metadata": {},
   "outputs": [],
   "source": [
    "Complex_Defect=[]\n",
    "for i in range(len(Serie_B.iloc[:,2])): \n",
    "    Complex_Defect.append(complex_defect_2(Serie_B.iloc[i,2],Serie_B.iloc[i,3], secondary_2,\"\",10))\n",
    "P8=pd.Series(Complex_Defect)\n",
    "Serie_B[\"Complex_Defect\"]=P8.values"
   ]
  },
  {
   "cell_type": "code",
   "execution_count": 49,
   "metadata": {},
   "outputs": [
    {
     "data": {
      "text/html": [
       "<div>\n",
       "<style scoped>\n",
       "    .dataframe tbody tr th:only-of-type {\n",
       "        vertical-align: middle;\n",
       "    }\n",
       "\n",
       "    .dataframe tbody tr th {\n",
       "        vertical-align: top;\n",
       "    }\n",
       "\n",
       "    .dataframe thead th {\n",
       "        text-align: right;\n",
       "    }\n",
       "</style>\n",
       "<table border=\"1\" class=\"dataframe\">\n",
       "  <thead>\n",
       "    <tr style=\"text-align: right;\">\n",
       "      <th></th>\n",
       "      <th>Sensor</th>\n",
       "      <th>On/Off Rate</th>\n",
       "      <th>Sensor Sequence</th>\n",
       "      <th>Trigger Sequence</th>\n",
       "      <th>Amplification sequence</th>\n",
       "      <th>Serie</th>\n",
       "      <th>DeltaG_Switch</th>\n",
       "      <th>DeltaG_Trigger</th>\n",
       "      <th>Single_Streadness_Trigger</th>\n",
       "      <th>Dg_RBS_linker</th>\n",
       "      <th>Trigger_Deffect</th>\n",
       "      <th>Sensor_Defect</th>\n",
       "      <th>Toehold_Deffect</th>\n",
       "      <th>Complex_Defect</th>\n",
       "    </tr>\n",
       "  </thead>\n",
       "  <tbody>\n",
       "    <tr>\n",
       "      <th>0</th>\n",
       "      <td>25</td>\n",
       "      <td>6.186667</td>\n",
       "      <td>UCUUCAGCCUCCAUGUGUCAUUCUUCUCACUCUCAAGGACUUUAGA...</td>\n",
       "      <td>UUGAGAGUGAGAAGAAUGACACAUGGAGGCUGAAGA</td>\n",
       "      <td>GGGCAGUGAUCUAGGCUACUGGAUUGAGAGUGAGAAGAAUGACACA...</td>\n",
       "      <td>Serie B</td>\n",
       "      <td>-35.551</td>\n",
       "      <td>-3.175</td>\n",
       "      <td>0.820792</td>\n",
       "      <td>-8.469</td>\n",
       "      <td>0.179208</td>\n",
       "      <td>0.1956</td>\n",
       "      <td>0.662314</td>\n",
       "      <td>7.379e-01</td>\n",
       "    </tr>\n",
       "    <tr>\n",
       "      <th>1</th>\n",
       "      <td>26</td>\n",
       "      <td>11.093333</td>\n",
       "      <td>AAAUUCCCCUUGUUUCUUUUCUCUUUUUCCCAUCAUGGACUUUAGA...</td>\n",
       "      <td>AUGAUGGGAAAAAGAGAAAAGAAACAAGGGGAAUUU</td>\n",
       "      <td>GGGUGCCAGAGUUGUGUGUACAACAUGAUGGGAAAAAGAGAAAAGA...</td>\n",
       "      <td>Serie B</td>\n",
       "      <td>-31.870</td>\n",
       "      <td>-0.396</td>\n",
       "      <td>0.890751</td>\n",
       "      <td>-7.898</td>\n",
       "      <td>0.109249</td>\n",
       "      <td>0.3662</td>\n",
       "      <td>0.633638</td>\n",
       "      <td>6.680e-01</td>\n",
       "    </tr>\n",
       "    <tr>\n",
       "      <th>2</th>\n",
       "      <td>27</td>\n",
       "      <td>34.133333</td>\n",
       "      <td>UUUCGCUCUAUUCUCAUCAGUUUCAUGUCCUGUGUCGGACUUUAGA...</td>\n",
       "      <td>GACACAGGACAUGAAACUGAUGAGAAUAGAGCGAAA</td>\n",
       "      <td>GGGCCAGCACAGUGGGAUGAUCGUUAAUGACACAGGACAUGAAACU...</td>\n",
       "      <td>Serie B</td>\n",
       "      <td>-36.519</td>\n",
       "      <td>-4.615</td>\n",
       "      <td>0.773636</td>\n",
       "      <td>-9.988</td>\n",
       "      <td>0.226364</td>\n",
       "      <td>0.2898</td>\n",
       "      <td>0.481177</td>\n",
       "      <td>6.821e-01</td>\n",
       "    </tr>\n",
       "    <tr>\n",
       "      <th>3</th>\n",
       "      <td>28</td>\n",
       "      <td>7.360000</td>\n",
       "      <td>GCUCCCCUUCUACUGAUCUCCACAUGAUGUUUUCCAGGACUUUAGA...</td>\n",
       "      <td>UGGAAAACAUCAUGUGGAGAUCAGUAGAAGGGGAGC</td>\n",
       "      <td>GGGCGGGAUCUCCUCUGUUUCAAGAAUGGAAAACAUCAUGUGGAGA...</td>\n",
       "      <td>Serie B</td>\n",
       "      <td>-30.502</td>\n",
       "      <td>-4.200</td>\n",
       "      <td>0.758035</td>\n",
       "      <td>-14.356</td>\n",
       "      <td>0.241965</td>\n",
       "      <td>0.1605</td>\n",
       "      <td>0.844004</td>\n",
       "      <td>7.527e-01</td>\n",
       "    </tr>\n",
       "    <tr>\n",
       "      <th>4</th>\n",
       "      <td>29</td>\n",
       "      <td>2.986667</td>\n",
       "      <td>AACUUCUUUAUUAUUUCCAUAGCCUCUUUUUUCCCCGGACUUUAGA...</td>\n",
       "      <td>GGGGAAAAAAGAGGCUAUGGAAAUAAUAAAGAAGUU</td>\n",
       "      <td>GGGCCAUCACUGGGUCUCAUCAAUAGAUGGGGUUCAGUGGGGAAAA...</td>\n",
       "      <td>Serie B</td>\n",
       "      <td>-30.709</td>\n",
       "      <td>-2.603</td>\n",
       "      <td>0.833765</td>\n",
       "      <td>-7.706</td>\n",
       "      <td>0.166235</td>\n",
       "      <td>0.1528</td>\n",
       "      <td>0.891312</td>\n",
       "      <td>6.587e-01</td>\n",
       "    </tr>\n",
       "    <tr>\n",
       "      <th>5</th>\n",
       "      <td>30</td>\n",
       "      <td>2.666667</td>\n",
       "      <td>AGGGUGGCUUCGGCUCUUGGUGAAUUGGGCGUUAUCGGACUUUAGA...</td>\n",
       "      <td>GAUAACGCCCAAUUCACCAAGAGCCGAAGCCACCCU</td>\n",
       "      <td>GGGAAUGCUGUCAGUUCAUGGCUCCCAGCACAGUGGGAUGAUCGUU...</td>\n",
       "      <td>Serie B</td>\n",
       "      <td>-40.821</td>\n",
       "      <td>-3.234</td>\n",
       "      <td>0.810051</td>\n",
       "      <td>-11.621</td>\n",
       "      <td>0.189949</td>\n",
       "      <td>0.2493</td>\n",
       "      <td>0.512480</td>\n",
       "      <td>6.945e-01</td>\n",
       "    </tr>\n",
       "    <tr>\n",
       "      <th>6</th>\n",
       "      <td>31</td>\n",
       "      <td>0.746667</td>\n",
       "      <td>CUUCCACUGCAGUCUUCCACUCUUUUUCCUCUUCAAGGACUUUAGA...</td>\n",
       "      <td>UUGAAGAGGAAAAAGAGUGGAAGACUGCAGUGGAAG</td>\n",
       "      <td>GGGAGAAGGAUGGUCUCUUCCUGGUUGUGGAAAGAGCUAGGCAAAC...</td>\n",
       "      <td>Serie B</td>\n",
       "      <td>-35.203</td>\n",
       "      <td>-4.160</td>\n",
       "      <td>0.781046</td>\n",
       "      <td>-9.128</td>\n",
       "      <td>0.218954</td>\n",
       "      <td>0.2569</td>\n",
       "      <td>0.582232</td>\n",
       "      <td>7.165e-01</td>\n",
       "    </tr>\n",
       "    <tr>\n",
       "      <th>7</th>\n",
       "      <td>32</td>\n",
       "      <td>19.093333</td>\n",
       "      <td>CUGGGAUCAAGUACAUGUAGUGCGCCACGAGCAAAAGGACUUUAGA...</td>\n",
       "      <td>UUUUGCUCGUGGCGCACUACAUGUACUUGAUCCCAG</td>\n",
       "      <td>GGGCUGACCCUAAUAGUGGCCAUCAUUUUGCUCGUGGCGCACUACA...</td>\n",
       "      <td>Serie B</td>\n",
       "      <td>-33.682</td>\n",
       "      <td>-6.100</td>\n",
       "      <td>0.673751</td>\n",
       "      <td>-13.048</td>\n",
       "      <td>0.326249</td>\n",
       "      <td>0.1892</td>\n",
       "      <td>0.639664</td>\n",
       "      <td>7.346e-01</td>\n",
       "    </tr>\n",
       "    <tr>\n",
       "      <th>8</th>\n",
       "      <td>33</td>\n",
       "      <td>28.800000</td>\n",
       "      <td>ACUAUUAGGGUCAGGGGUGUUAAUUGUGAGUAGCAAGGACUUUAGA...</td>\n",
       "      <td>UUGCUACUCACAAUUAACACCCCUGACCCUAAUAGU</td>\n",
       "      <td>GGGUUUGGUAUGGGCAAAGGGAUGCCAUUCUACGCAUGGGACUUUG...</td>\n",
       "      <td>Serie B</td>\n",
       "      <td>-36.733</td>\n",
       "      <td>-1.457</td>\n",
       "      <td>0.819184</td>\n",
       "      <td>-12.105</td>\n",
       "      <td>0.180816</td>\n",
       "      <td>0.2088</td>\n",
       "      <td>0.661529</td>\n",
       "      <td>7.211e-01</td>\n",
       "    </tr>\n",
       "    <tr>\n",
       "      <th>9</th>\n",
       "      <td>34</td>\n",
       "      <td>3.626667</td>\n",
       "      <td>CAUCGCCAUUAAGGAGUAGUUGUUGUAUGAGGUGGUGGACUUUAGA...</td>\n",
       "      <td>ACCACCUCAUACAACAACUACUCCUUAAUGGCGAUG</td>\n",
       "      <td>GGGCCAUCUAUGCUGCCUUGACAACUUUCAUUACCCCAGCCGUCCA...</td>\n",
       "      <td>Serie B</td>\n",
       "      <td>-38.465</td>\n",
       "      <td>-1.859</td>\n",
       "      <td>0.829996</td>\n",
       "      <td>-11.527</td>\n",
       "      <td>0.170004</td>\n",
       "      <td>0.2389</td>\n",
       "      <td>0.611751</td>\n",
       "      <td>7.330e-01</td>\n",
       "    </tr>\n",
       "    <tr>\n",
       "      <th>10</th>\n",
       "      <td>35</td>\n",
       "      <td>1.280000</td>\n",
       "      <td>CACUGCCAUUGAUGUGCUUAUGAUGAUCUUUGUGGUGGACUUUAGA...</td>\n",
       "      <td>ACCACAAAGAUCAUCAUAAGCACAUCAAUGGCAGUG</td>\n",
       "      <td>GGGAGAAGGGUGAUUCUGCUCAUGGUGCAGGAAGGGUUGAAGAAGA...</td>\n",
       "      <td>Serie B</td>\n",
       "      <td>-33.090</td>\n",
       "      <td>-5.377</td>\n",
       "      <td>0.769675</td>\n",
       "      <td>-8.214</td>\n",
       "      <td>0.230325</td>\n",
       "      <td>0.2067</td>\n",
       "      <td>0.634910</td>\n",
       "      <td>6.617e-01</td>\n",
       "    </tr>\n",
       "    <tr>\n",
       "      <th>11</th>\n",
       "      <td>36</td>\n",
       "      <td>5.973333</td>\n",
       "      <td>CCCACUCUUGAUGUUUUGUUUUCUGGAACUCUGUCUGGACUUUAGA...</td>\n",
       "      <td>AGACAGAGUUCCAGAAAACAAAACAUCAAGAGUGGG</td>\n",
       "      <td>GGGAGAAGGGUUUGUUCCAAGCGUGAGGAACGGCAAUGAGAUCGCA...</td>\n",
       "      <td>Serie B</td>\n",
       "      <td>-36.627</td>\n",
       "      <td>-4.609</td>\n",
       "      <td>0.757119</td>\n",
       "      <td>-10.643</td>\n",
       "      <td>0.242881</td>\n",
       "      <td>0.2621</td>\n",
       "      <td>0.580619</td>\n",
       "      <td>7.228e-01</td>\n",
       "    </tr>\n",
       "    <tr>\n",
       "      <th>12</th>\n",
       "      <td>37</td>\n",
       "      <td>24.106667</td>\n",
       "      <td>AUCUUUAGCCCGGAACGACAGUGGGGGCAUUGUGCAGGACUUUAGA...</td>\n",
       "      <td>UGCACAAUGCCCCCACUGUCGUUCCGGGCUAAAGAU</td>\n",
       "      <td>GGGAGAUCAACCACUGCAAGCGGAAGGGUGAUCGAGGAAUGGUGCU...</td>\n",
       "      <td>Serie B</td>\n",
       "      <td>-37.150</td>\n",
       "      <td>-8.889</td>\n",
       "      <td>0.704625</td>\n",
       "      <td>-16.093</td>\n",
       "      <td>0.295375</td>\n",
       "      <td>0.2104</td>\n",
       "      <td>0.659493</td>\n",
       "      <td>7.273e-01</td>\n",
       "    </tr>\n",
       "    <tr>\n",
       "      <th>13</th>\n",
       "      <td>38</td>\n",
       "      <td>7.786667</td>\n",
       "      <td>UGCUUCUUUGUUGUUCCAGUGUGGAGUUCCGGUGUCGGACUUUAGA...</td>\n",
       "      <td>GACACCGGAACUCCACACUGGAACAACAAAGAAGCA</td>\n",
       "      <td>GGGAGUGGUUCCACGACAUUCCAUUACCUUGGCACGCUGGGGCAGA...</td>\n",
       "      <td>Serie B</td>\n",
       "      <td>-43.209</td>\n",
       "      <td>-5.224</td>\n",
       "      <td>0.781108</td>\n",
       "      <td>-9.657</td>\n",
       "      <td>0.218892</td>\n",
       "      <td>0.3392</td>\n",
       "      <td>0.367305</td>\n",
       "      <td>6.757e-01</td>\n",
       "    </tr>\n",
       "    <tr>\n",
       "      <th>14</th>\n",
       "      <td>39</td>\n",
       "      <td>0.746667</td>\n",
       "      <td>ACUCCAAAAGCCGCUCCUCUUUUCCCAGCGGCAAACGGACUUUAGA...</td>\n",
       "      <td>GUUUGCCGCUGGGAAAAGAGGAGCGGCUUUUGGAGU</td>\n",
       "      <td>GGGUGGACGCCAGAGUUUGUUCAGAUCAUGCGGCCCUGAAGUCAUU...</td>\n",
       "      <td>Serie B</td>\n",
       "      <td>-38.151</td>\n",
       "      <td>-13.226</td>\n",
       "      <td>0.857491</td>\n",
       "      <td>-17.652</td>\n",
       "      <td>0.142509</td>\n",
       "      <td>0.2020</td>\n",
       "      <td>0.713260</td>\n",
       "      <td>7.387e-01</td>\n",
       "    </tr>\n",
       "    <tr>\n",
       "      <th>15</th>\n",
       "      <td>40</td>\n",
       "      <td>3.413333</td>\n",
       "      <td>ACUCUUUUCUCUCCGUGUCUGGUCCACACUUCUGCCGGACUUUAGA...</td>\n",
       "      <td>GGCAGAAGUGUGGACCAGACACGGAGAGAAAAGAGU</td>\n",
       "      <td>GGGCUGCCGGAAUAACCUACACAGAUAGAAGAUGGUGCUUUGAUGG...</td>\n",
       "      <td>Serie B</td>\n",
       "      <td>-39.516</td>\n",
       "      <td>-6.172</td>\n",
       "      <td>0.784047</td>\n",
       "      <td>-9.046</td>\n",
       "      <td>0.215953</td>\n",
       "      <td>0.3018</td>\n",
       "      <td>0.456517</td>\n",
       "      <td>6.981e-01</td>\n",
       "    </tr>\n",
       "    <tr>\n",
       "      <th>16</th>\n",
       "      <td>41</td>\n",
       "      <td>9.386667</td>\n",
       "      <td>GGACUUUGGCCAUUCACAUGUUUUCAUCUCGAUCAGGGACUUUAGA...</td>\n",
       "      <td>CUGAUCGAGAUGAAAACAUGUGAAUGGCCAAAGUCC</td>\n",
       "      <td>GGGCUACUGGAUUGAGAGUGAGAAGAAUGACACAUGGAGGCUGAAG...</td>\n",
       "      <td>Serie B</td>\n",
       "      <td>-37.272</td>\n",
       "      <td>-6.855</td>\n",
       "      <td>0.698318</td>\n",
       "      <td>-11.330</td>\n",
       "      <td>0.301682</td>\n",
       "      <td>0.2100</td>\n",
       "      <td>0.691256</td>\n",
       "      <td>7.187e-01</td>\n",
       "    </tr>\n",
       "    <tr>\n",
       "      <th>17</th>\n",
       "      <td>42</td>\n",
       "      <td>1.493333</td>\n",
       "      <td>UUGGUUGUCCUGGGGAGAUCUUUGCUUUUCUGGCUCGGACUUUAGA...</td>\n",
       "      <td>GAGCCAGAAAAGCAAAGAUCUCCCCAGGACAACCAA</td>\n",
       "      <td>GGGCAGCCAGAAUUGCAUGUGUCCUCAUUGUUGUGUUCCUAUUGCU...</td>\n",
       "      <td>Serie B</td>\n",
       "      <td>-43.540</td>\n",
       "      <td>-5.689</td>\n",
       "      <td>0.729142</td>\n",
       "      <td>-12.412</td>\n",
       "      <td>0.270858</td>\n",
       "      <td>0.3227</td>\n",
       "      <td>0.443702</td>\n",
       "      <td>6.894e-01</td>\n",
       "    </tr>\n",
       "    <tr>\n",
       "      <th>18</th>\n",
       "      <td>43</td>\n",
       "      <td>3.093333</td>\n",
       "      <td>AAUGAGUUGCACCACUAGGUUGGUAAAUGUGUUAAGGGACUUUAGA...</td>\n",
       "      <td>CUUAACACAUUUACCAACCUAGUGGUGCAACUCAUU</td>\n",
       "      <td>GGGAGCGGACAAGUUGUCACUUACGCUCUUAACACAUUUACCAACC...</td>\n",
       "      <td>Serie B</td>\n",
       "      <td>-37.053</td>\n",
       "      <td>-6.859</td>\n",
       "      <td>0.708653</td>\n",
       "      <td>-9.720</td>\n",
       "      <td>0.291347</td>\n",
       "      <td>0.3074</td>\n",
       "      <td>0.444369</td>\n",
       "      <td>6.846e-01</td>\n",
       "    </tr>\n",
       "    <tr>\n",
       "      <th>19</th>\n",
       "      <td>44</td>\n",
       "      <td>0.853333</td>\n",
       "      <td>CUUCAACGUCGUUAUAGACGAACACCCCUGUACCGCGGACUUUAGA...</td>\n",
       "      <td>GCGGUACAGGGGUGUUCGUCUAUAACGACGUUGAAG</td>\n",
       "      <td>GGGUGCUCGGUGGACUUCUCAAAGAAGGAGACGAGAUGCGGUACAG...</td>\n",
       "      <td>Serie B</td>\n",
       "      <td>-41.427</td>\n",
       "      <td>-7.039</td>\n",
       "      <td>0.667138</td>\n",
       "      <td>-13.751</td>\n",
       "      <td>0.332862</td>\n",
       "      <td>0.1787</td>\n",
       "      <td>0.645034</td>\n",
       "      <td>7.079e-01</td>\n",
       "    </tr>\n",
       "    <tr>\n",
       "      <th>20</th>\n",
       "      <td>45</td>\n",
       "      <td>4.906667</td>\n",
       "      <td>CCACAAGUCUUGCAUCUCUAGAACUUCCUCAGCCUCGGACUUUAGA...</td>\n",
       "      <td>GAGGCUGAGGAAGUUCUAGAGAUGCAAGACUUGUGG</td>\n",
       "      <td>GGGAGUGGUGCAACUCAUUCGGAAUAUGGAGGCUGAGGAAGUUCUA...</td>\n",
       "      <td>Serie B</td>\n",
       "      <td>-39.301</td>\n",
       "      <td>-5.679</td>\n",
       "      <td>0.641268</td>\n",
       "      <td>-10.748</td>\n",
       "      <td>0.358732</td>\n",
       "      <td>0.2249</td>\n",
       "      <td>0.601223</td>\n",
       "      <td>7.066e-01</td>\n",
       "    </tr>\n",
       "    <tr>\n",
       "      <th>21</th>\n",
       "      <td>46</td>\n",
       "      <td>29.866667</td>\n",
       "      <td>AUUCCUCAAACCGAAUUUCAAGCUCUUCACUGUGCCGGACUUUAGA...</td>\n",
       "      <td>GGCACAGUGAAGAGCUUGAAAUUCGGUUUGAGGAAU</td>\n",
       "      <td>GGGCAAUACCAGAGAGGGCUACAGGACCCAAAUGAAAGGGCCAUGG...</td>\n",
       "      <td>Serie B</td>\n",
       "      <td>-32.945</td>\n",
       "      <td>-5.757</td>\n",
       "      <td>0.657431</td>\n",
       "      <td>-8.865</td>\n",
       "      <td>0.342569</td>\n",
       "      <td>0.1528</td>\n",
       "      <td>0.787218</td>\n",
       "      <td>6.774e-01</td>\n",
       "    </tr>\n",
       "    <tr>\n",
       "      <th>22</th>\n",
       "      <td>47</td>\n",
       "      <td>8.960000</td>\n",
       "      <td>UAUGGUUGCCCCCUCCUCUCUCCUUCCCAUUAGAUGGGACUUUAGA...</td>\n",
       "      <td>CAUCUAAUGGGAAGGAGAGAGGAGGGGGCAACCAUA</td>\n",
       "      <td>GGGAGUAGGUCUUCUGGGCUUGAUUACCGCCAAUGAACUCGGAUGG...</td>\n",
       "      <td>Serie B</td>\n",
       "      <td>-39.153</td>\n",
       "      <td>-9.653</td>\n",
       "      <td>0.683887</td>\n",
       "      <td>-13.418</td>\n",
       "      <td>0.316113</td>\n",
       "      <td>0.2916</td>\n",
       "      <td>0.551606</td>\n",
       "      <td>7.204e-01</td>\n",
       "    </tr>\n",
       "    <tr>\n",
       "      <th>23</th>\n",
       "      <td>48</td>\n",
       "      <td>3.200000</td>\n",
       "      <td>AUCAUUCAAGAACCUGAGGGCAUGUGCAAACCUAUCGGACUUUAGA...</td>\n",
       "      <td>GAUAGGUUUGCACAUGCCCUCAGGUUCUUGAAUGAU</td>\n",
       "      <td>GGGAUAGGCUCAAACGAAUGGCAGUCAGUGGAGAUGAUUGCGUUGU...</td>\n",
       "      <td>Serie B</td>\n",
       "      <td>-34.066</td>\n",
       "      <td>-6.329</td>\n",
       "      <td>0.651647</td>\n",
       "      <td>-10.878</td>\n",
       "      <td>0.348353</td>\n",
       "      <td>0.1767</td>\n",
       "      <td>0.732766</td>\n",
       "      <td>6.987e-01</td>\n",
       "    </tr>\n",
       "  </tbody>\n",
       "</table>\n",
       "</div>"
      ],
      "text/plain": [
       "    Sensor  On/Off Rate                                    Sensor Sequence  \\\n",
       "0       25     6.186667  UCUUCAGCCUCCAUGUGUCAUUCUUCUCACUCUCAAGGACUUUAGA...   \n",
       "1       26    11.093333  AAAUUCCCCUUGUUUCUUUUCUCUUUUUCCCAUCAUGGACUUUAGA...   \n",
       "2       27    34.133333  UUUCGCUCUAUUCUCAUCAGUUUCAUGUCCUGUGUCGGACUUUAGA...   \n",
       "3       28     7.360000  GCUCCCCUUCUACUGAUCUCCACAUGAUGUUUUCCAGGACUUUAGA...   \n",
       "4       29     2.986667  AACUUCUUUAUUAUUUCCAUAGCCUCUUUUUUCCCCGGACUUUAGA...   \n",
       "5       30     2.666667  AGGGUGGCUUCGGCUCUUGGUGAAUUGGGCGUUAUCGGACUUUAGA...   \n",
       "6       31     0.746667  CUUCCACUGCAGUCUUCCACUCUUUUUCCUCUUCAAGGACUUUAGA...   \n",
       "7       32    19.093333  CUGGGAUCAAGUACAUGUAGUGCGCCACGAGCAAAAGGACUUUAGA...   \n",
       "8       33    28.800000  ACUAUUAGGGUCAGGGGUGUUAAUUGUGAGUAGCAAGGACUUUAGA...   \n",
       "9       34     3.626667  CAUCGCCAUUAAGGAGUAGUUGUUGUAUGAGGUGGUGGACUUUAGA...   \n",
       "10      35     1.280000  CACUGCCAUUGAUGUGCUUAUGAUGAUCUUUGUGGUGGACUUUAGA...   \n",
       "11      36     5.973333  CCCACUCUUGAUGUUUUGUUUUCUGGAACUCUGUCUGGACUUUAGA...   \n",
       "12      37    24.106667  AUCUUUAGCCCGGAACGACAGUGGGGGCAUUGUGCAGGACUUUAGA...   \n",
       "13      38     7.786667  UGCUUCUUUGUUGUUCCAGUGUGGAGUUCCGGUGUCGGACUUUAGA...   \n",
       "14      39     0.746667  ACUCCAAAAGCCGCUCCUCUUUUCCCAGCGGCAAACGGACUUUAGA...   \n",
       "15      40     3.413333  ACUCUUUUCUCUCCGUGUCUGGUCCACACUUCUGCCGGACUUUAGA...   \n",
       "16      41     9.386667  GGACUUUGGCCAUUCACAUGUUUUCAUCUCGAUCAGGGACUUUAGA...   \n",
       "17      42     1.493333  UUGGUUGUCCUGGGGAGAUCUUUGCUUUUCUGGCUCGGACUUUAGA...   \n",
       "18      43     3.093333  AAUGAGUUGCACCACUAGGUUGGUAAAUGUGUUAAGGGACUUUAGA...   \n",
       "19      44     0.853333  CUUCAACGUCGUUAUAGACGAACACCCCUGUACCGCGGACUUUAGA...   \n",
       "20      45     4.906667  CCACAAGUCUUGCAUCUCUAGAACUUCCUCAGCCUCGGACUUUAGA...   \n",
       "21      46    29.866667  AUUCCUCAAACCGAAUUUCAAGCUCUUCACUGUGCCGGACUUUAGA...   \n",
       "22      47     8.960000  UAUGGUUGCCCCCUCCUCUCUCCUUCCCAUUAGAUGGGACUUUAGA...   \n",
       "23      48     3.200000  AUCAUUCAAGAACCUGAGGGCAUGUGCAAACCUAUCGGACUUUAGA...   \n",
       "\n",
       "                        Trigger Sequence  \\\n",
       "0   UUGAGAGUGAGAAGAAUGACACAUGGAGGCUGAAGA   \n",
       "1   AUGAUGGGAAAAAGAGAAAAGAAACAAGGGGAAUUU   \n",
       "2   GACACAGGACAUGAAACUGAUGAGAAUAGAGCGAAA   \n",
       "3   UGGAAAACAUCAUGUGGAGAUCAGUAGAAGGGGAGC   \n",
       "4   GGGGAAAAAAGAGGCUAUGGAAAUAAUAAAGAAGUU   \n",
       "5   GAUAACGCCCAAUUCACCAAGAGCCGAAGCCACCCU   \n",
       "6   UUGAAGAGGAAAAAGAGUGGAAGACUGCAGUGGAAG   \n",
       "7   UUUUGCUCGUGGCGCACUACAUGUACUUGAUCCCAG   \n",
       "8   UUGCUACUCACAAUUAACACCCCUGACCCUAAUAGU   \n",
       "9   ACCACCUCAUACAACAACUACUCCUUAAUGGCGAUG   \n",
       "10  ACCACAAAGAUCAUCAUAAGCACAUCAAUGGCAGUG   \n",
       "11  AGACAGAGUUCCAGAAAACAAAACAUCAAGAGUGGG   \n",
       "12  UGCACAAUGCCCCCACUGUCGUUCCGGGCUAAAGAU   \n",
       "13  GACACCGGAACUCCACACUGGAACAACAAAGAAGCA   \n",
       "14  GUUUGCCGCUGGGAAAAGAGGAGCGGCUUUUGGAGU   \n",
       "15  GGCAGAAGUGUGGACCAGACACGGAGAGAAAAGAGU   \n",
       "16  CUGAUCGAGAUGAAAACAUGUGAAUGGCCAAAGUCC   \n",
       "17  GAGCCAGAAAAGCAAAGAUCUCCCCAGGACAACCAA   \n",
       "18  CUUAACACAUUUACCAACCUAGUGGUGCAACUCAUU   \n",
       "19  GCGGUACAGGGGUGUUCGUCUAUAACGACGUUGAAG   \n",
       "20  GAGGCUGAGGAAGUUCUAGAGAUGCAAGACUUGUGG   \n",
       "21  GGCACAGUGAAGAGCUUGAAAUUCGGUUUGAGGAAU   \n",
       "22  CAUCUAAUGGGAAGGAGAGAGGAGGGGGCAACCAUA   \n",
       "23  GAUAGGUUUGCACAUGCCCUCAGGUUCUUGAAUGAU   \n",
       "\n",
       "                               Amplification sequence    Serie  DeltaG_Switch  \\\n",
       "0   GGGCAGUGAUCUAGGCUACUGGAUUGAGAGUGAGAAGAAUGACACA...  Serie B        -35.551   \n",
       "1   GGGUGCCAGAGUUGUGUGUACAACAUGAUGGGAAAAAGAGAAAAGA...  Serie B        -31.870   \n",
       "2   GGGCCAGCACAGUGGGAUGAUCGUUAAUGACACAGGACAUGAAACU...  Serie B        -36.519   \n",
       "3   GGGCGGGAUCUCCUCUGUUUCAAGAAUGGAAAACAUCAUGUGGAGA...  Serie B        -30.502   \n",
       "4   GGGCCAUCACUGGGUCUCAUCAAUAGAUGGGGUUCAGUGGGGAAAA...  Serie B        -30.709   \n",
       "5   GGGAAUGCUGUCAGUUCAUGGCUCCCAGCACAGUGGGAUGAUCGUU...  Serie B        -40.821   \n",
       "6   GGGAGAAGGAUGGUCUCUUCCUGGUUGUGGAAAGAGCUAGGCAAAC...  Serie B        -35.203   \n",
       "7   GGGCUGACCCUAAUAGUGGCCAUCAUUUUGCUCGUGGCGCACUACA...  Serie B        -33.682   \n",
       "8   GGGUUUGGUAUGGGCAAAGGGAUGCCAUUCUACGCAUGGGACUUUG...  Serie B        -36.733   \n",
       "9   GGGCCAUCUAUGCUGCCUUGACAACUUUCAUUACCCCAGCCGUCCA...  Serie B        -38.465   \n",
       "10  GGGAGAAGGGUGAUUCUGCUCAUGGUGCAGGAAGGGUUGAAGAAGA...  Serie B        -33.090   \n",
       "11  GGGAGAAGGGUUUGUUCCAAGCGUGAGGAACGGCAAUGAGAUCGCA...  Serie B        -36.627   \n",
       "12  GGGAGAUCAACCACUGCAAGCGGAAGGGUGAUCGAGGAAUGGUGCU...  Serie B        -37.150   \n",
       "13  GGGAGUGGUUCCACGACAUUCCAUUACCUUGGCACGCUGGGGCAGA...  Serie B        -43.209   \n",
       "14  GGGUGGACGCCAGAGUUUGUUCAGAUCAUGCGGCCCUGAAGUCAUU...  Serie B        -38.151   \n",
       "15  GGGCUGCCGGAAUAACCUACACAGAUAGAAGAUGGUGCUUUGAUGG...  Serie B        -39.516   \n",
       "16  GGGCUACUGGAUUGAGAGUGAGAAGAAUGACACAUGGAGGCUGAAG...  Serie B        -37.272   \n",
       "17  GGGCAGCCAGAAUUGCAUGUGUCCUCAUUGUUGUGUUCCUAUUGCU...  Serie B        -43.540   \n",
       "18  GGGAGCGGACAAGUUGUCACUUACGCUCUUAACACAUUUACCAACC...  Serie B        -37.053   \n",
       "19  GGGUGCUCGGUGGACUUCUCAAAGAAGGAGACGAGAUGCGGUACAG...  Serie B        -41.427   \n",
       "20  GGGAGUGGUGCAACUCAUUCGGAAUAUGGAGGCUGAGGAAGUUCUA...  Serie B        -39.301   \n",
       "21  GGGCAAUACCAGAGAGGGCUACAGGACCCAAAUGAAAGGGCCAUGG...  Serie B        -32.945   \n",
       "22  GGGAGUAGGUCUUCUGGGCUUGAUUACCGCCAAUGAACUCGGAUGG...  Serie B        -39.153   \n",
       "23  GGGAUAGGCUCAAACGAAUGGCAGUCAGUGGAGAUGAUUGCGUUGU...  Serie B        -34.066   \n",
       "\n",
       "    DeltaG_Trigger  Single_Streadness_Trigger  Dg_RBS_linker  Trigger_Deffect  \\\n",
       "0           -3.175                   0.820792         -8.469         0.179208   \n",
       "1           -0.396                   0.890751         -7.898         0.109249   \n",
       "2           -4.615                   0.773636         -9.988         0.226364   \n",
       "3           -4.200                   0.758035        -14.356         0.241965   \n",
       "4           -2.603                   0.833765         -7.706         0.166235   \n",
       "5           -3.234                   0.810051        -11.621         0.189949   \n",
       "6           -4.160                   0.781046         -9.128         0.218954   \n",
       "7           -6.100                   0.673751        -13.048         0.326249   \n",
       "8           -1.457                   0.819184        -12.105         0.180816   \n",
       "9           -1.859                   0.829996        -11.527         0.170004   \n",
       "10          -5.377                   0.769675         -8.214         0.230325   \n",
       "11          -4.609                   0.757119        -10.643         0.242881   \n",
       "12          -8.889                   0.704625        -16.093         0.295375   \n",
       "13          -5.224                   0.781108         -9.657         0.218892   \n",
       "14         -13.226                   0.857491        -17.652         0.142509   \n",
       "15          -6.172                   0.784047         -9.046         0.215953   \n",
       "16          -6.855                   0.698318        -11.330         0.301682   \n",
       "17          -5.689                   0.729142        -12.412         0.270858   \n",
       "18          -6.859                   0.708653         -9.720         0.291347   \n",
       "19          -7.039                   0.667138        -13.751         0.332862   \n",
       "20          -5.679                   0.641268        -10.748         0.358732   \n",
       "21          -5.757                   0.657431         -8.865         0.342569   \n",
       "22          -9.653                   0.683887        -13.418         0.316113   \n",
       "23          -6.329                   0.651647        -10.878         0.348353   \n",
       "\n",
       "    Sensor_Defect  Toehold_Deffect Complex_Defect  \n",
       "0          0.1956         0.662314      7.379e-01  \n",
       "1          0.3662         0.633638      6.680e-01  \n",
       "2          0.2898         0.481177      6.821e-01  \n",
       "3          0.1605         0.844004      7.527e-01  \n",
       "4          0.1528         0.891312      6.587e-01  \n",
       "5          0.2493         0.512480      6.945e-01  \n",
       "6          0.2569         0.582232      7.165e-01  \n",
       "7          0.1892         0.639664      7.346e-01  \n",
       "8          0.2088         0.661529      7.211e-01  \n",
       "9          0.2389         0.611751      7.330e-01  \n",
       "10         0.2067         0.634910      6.617e-01  \n",
       "11         0.2621         0.580619      7.228e-01  \n",
       "12         0.2104         0.659493      7.273e-01  \n",
       "13         0.3392         0.367305      6.757e-01  \n",
       "14         0.2020         0.713260      7.387e-01  \n",
       "15         0.3018         0.456517      6.981e-01  \n",
       "16         0.2100         0.691256      7.187e-01  \n",
       "17         0.3227         0.443702      6.894e-01  \n",
       "18         0.3074         0.444369      6.846e-01  \n",
       "19         0.1787         0.645034      7.079e-01  \n",
       "20         0.2249         0.601223      7.066e-01  \n",
       "21         0.1528         0.787218      6.774e-01  \n",
       "22         0.2916         0.551606      7.204e-01  \n",
       "23         0.1767         0.732766      6.987e-01  "
      ]
     },
     "execution_count": 49,
     "metadata": {},
     "output_type": "execute_result"
    }
   ],
   "source": [
    "Serie_B"
   ]
  },
  {
   "cell_type": "markdown",
   "metadata": {},
   "source": [
    "## Calculating linear regressions and coefficients"
   ]
  },
  {
   "cell_type": "code",
   "execution_count": 50,
   "metadata": {},
   "outputs": [],
   "source": [
    "#until this point, we've calculated parameters of the sensors and triggers. Lets see if any correlates with the ON-OFF responce"
   ]
  },
  {
   "cell_type": "code",
   "execution_count": 51,
   "metadata": {},
   "outputs": [
    {
     "data": {
      "text/html": [
       "<div>\n",
       "<style scoped>\n",
       "    .dataframe tbody tr th:only-of-type {\n",
       "        vertical-align: middle;\n",
       "    }\n",
       "\n",
       "    .dataframe tbody tr th {\n",
       "        vertical-align: top;\n",
       "    }\n",
       "\n",
       "    .dataframe thead th {\n",
       "        text-align: right;\n",
       "    }\n",
       "</style>\n",
       "<table border=\"1\" class=\"dataframe\">\n",
       "  <thead>\n",
       "    <tr style=\"text-align: right;\">\n",
       "      <th></th>\n",
       "      <th>name</th>\n",
       "      <th>R-squared</th>\n",
       "      <th>Linear model Coef</th>\n",
       "      <th>p-value</th>\n",
       "    </tr>\n",
       "  </thead>\n",
       "  <tbody>\n",
       "    <tr>\n",
       "      <th>0</th>\n",
       "      <td>DeltaG_Switch</td>\n",
       "      <td>0.048547</td>\n",
       "      <td>0.617839</td>\n",
       "      <td>0.300867</td>\n",
       "    </tr>\n",
       "    <tr>\n",
       "      <th>1</th>\n",
       "      <td>DeltaG_Trigger</td>\n",
       "      <td>0.011631</td>\n",
       "      <td>0.394945</td>\n",
       "      <td>0.615951</td>\n",
       "    </tr>\n",
       "    <tr>\n",
       "      <th>2</th>\n",
       "      <td>Single_Streadness_Trigger</td>\n",
       "      <td>0.016843</td>\n",
       "      <td>-18.483702</td>\n",
       "      <td>0.545562</td>\n",
       "    </tr>\n",
       "    <tr>\n",
       "      <th>3</th>\n",
       "      <td>Dg_RBS_linker</td>\n",
       "      <td>0.002272</td>\n",
       "      <td>-0.186651</td>\n",
       "      <td>0.824973</td>\n",
       "    </tr>\n",
       "    <tr>\n",
       "      <th>4</th>\n",
       "      <td>Trigger_Deffect</td>\n",
       "      <td>0.016843</td>\n",
       "      <td>18.483702</td>\n",
       "      <td>0.545562</td>\n",
       "    </tr>\n",
       "    <tr>\n",
       "      <th>5</th>\n",
       "      <td>Sensor_Defect</td>\n",
       "      <td>0.008914</td>\n",
       "      <td>-15.604543</td>\n",
       "      <td>0.660781</td>\n",
       "    </tr>\n",
       "    <tr>\n",
       "      <th>6</th>\n",
       "      <td>Toehold_Deffect</td>\n",
       "      <td>0.007884</td>\n",
       "      <td>7.024718</td>\n",
       "      <td>0.679917</td>\n",
       "    </tr>\n",
       "    <tr>\n",
       "      <th>7</th>\n",
       "      <td>Complex_Defect</td>\n",
       "      <td>0.000013</td>\n",
       "      <td>-1.386464</td>\n",
       "      <td>0.986549</td>\n",
       "    </tr>\n",
       "  </tbody>\n",
       "</table>\n",
       "</div>"
      ],
      "text/plain": [
       "                        name  R-squared  Linear model Coef   p-value\n",
       "0              DeltaG_Switch   0.048547           0.617839  0.300867\n",
       "1             DeltaG_Trigger   0.011631           0.394945  0.615951\n",
       "2  Single_Streadness_Trigger   0.016843         -18.483702  0.545562\n",
       "3              Dg_RBS_linker   0.002272          -0.186651  0.824973\n",
       "4            Trigger_Deffect   0.016843          18.483702  0.545562\n",
       "5              Sensor_Defect   0.008914         -15.604543  0.660781\n",
       "6            Toehold_Deffect   0.007884           7.024718  0.679917\n",
       "7             Complex_Defect   0.000013          -1.386464  0.986549"
      ]
     },
     "execution_count": 51,
     "metadata": {},
     "output_type": "execute_result"
    },
    {
     "data": {
      "image/png": "[encoded data removed]",
      "text/plain": [
       "<matplotlib.figure.Figure at 0x7f00bc5497f0>"
      ]
     },
     "metadata": {},
     "output_type": "display_data"
    },
    {
     "data": {
      "image/png": "[encoded data removed]",
      "text/plain": [
       "<matplotlib.figure.Figure at 0x7f00bc507438>"
      ]
     },
     "metadata": {},
     "output_type": "display_data"
    },
    {
     "data": {
      "image/png": "[encoded data removed]",
      "text/plain": [
       "<matplotlib.figure.Figure at 0x7f00bc4d45c0>"
      ]
     },
     "metadata": {},
     "output_type": "display_data"
    },
    {
     "data": {
      "image/png": "[encoded data removed]",
      "text/plain": [
       "<matplotlib.figure.Figure at 0x7f00bc4817b8>"
      ]
     },
     "metadata": {},
     "output_type": "display_data"
    },
    {
     "data": {
      "image/png": "[encoded data removed]",
      "text/plain": [
       "<matplotlib.figure.Figure at 0x7f00bc44eb38>"
      ]
     },
     "metadata": {},
     "output_type": "display_data"
    },
    {
     "data": {
      "image/png": "[encoded data removed]",
      "text/plain": [
       "<matplotlib.figure.Figure at 0x7f00bc40ebe0>"
      ]
     },
     "metadata": {},
     "output_type": "display_data"
    },
    {
     "data": {
      "image/png": "[encoded data removed]",
      "text/plain": [
       "<matplotlib.figure.Figure at 0x7f00bc3d0c88>"
      ]
     },
     "metadata": {},
     "output_type": "display_data"
    },
    {
     "data": {
      "image/png": "[encoded data removed]",
      "text/plain": [
       "<matplotlib.figure.Figure at 0x7f00bc38d860>"
      ]
     },
     "metadata": {},
     "output_type": "display_data"
    }
   ],
   "source": [
    "list_of_lists = []\n",
    "x=0\n",
    "y=0\n",
    "name=0\n",
    "for i in range(6,len(Serie_B.columns)):\n",
    "    y=Serie_B[\"On/Off Rate\"]\n",
    "    x=Serie_B[Serie_B.columns[i]]\n",
    "    name=x.name\n",
    "\n",
    "    fig, ax = plt.subplots(figsize=(10, 4))\n",
    "    ax.scatter(x.astype(float), y, alpha=0.5)\n",
    "    plt.xlabel(x.name)\n",
    "    plt.ylabel(y.name)\n",
    "\n",
    "    x_pred = np.linspace(x.astype(float).min(), x.astype(float).max(), 50)\n",
    "    \n",
    "    x=sm.add_constant(x)\n",
    "    regression1 = sm.OLS(y, x.astype(float)).fit() \n",
    "\n",
    "    x_pred2 = sm.add_constant(x_pred)\n",
    "    y_pred = regression1.predict(x_pred2)\n",
    "    ax.plot(x_pred, y_pred, '-', color='darkorchid', linewidth=2)\n",
    "\n",
    "    #x_pred2=0\n",
    "    #y_pred=0\n",
    "    list_of_lists.append([name,regression1.rsquared,regression1.params[1],regression1.pvalues[1] ])\n",
    "out=pd.DataFrame(list_of_lists, columns=['name', 'R-squared',\"Linear model Coef\",\"p-value\"])\n",
    "out\n",
    "\n"
   ]
  },
  {
   "cell_type": "code",
   "execution_count": null,
   "metadata": {},
   "outputs": [],
   "source": [
    "regression1.pvalues[0]"
   ]
  },
  {
   "cell_type": "code",
   "execution_count": null,
   "metadata": {},
   "outputs": [],
   "source": [
    "x=Serie_B[\"Complex_Defect\"]\n",
    "x.astype(float)"
   ]
  },
  {
   "cell_type": "code",
   "execution_count": null,
   "metadata": {},
   "outputs": [],
   "source": [
    "import statsmodels.api as sm \n",
    "#x = sm.add_constant(x) # constant intercept term\n",
    "\n",
    "y=Serie_B[\"On/Off Rate\"]\n",
    "x=Serie_B[\"Complex_Defect\"]\n",
    "\n",
    "name=x.name\n",
    "fig, ax = plt.subplots(figsize=(8, 4))\n",
    "ax.scatter(x.astype(float), y, alpha=0.5)\n",
    "plt.xlabel(x.name)\n",
    "plt.ylabel(y.name)\n",
    "\n",
    "x_pred = np.linspace(x.astype(float).min(), x.astype(float).max(), 50)\n",
    "x=sm.add_constant(x)\n",
    "\n",
    "#model y=mx+c\n",
    "regression1=sm.OLS(y,x.astype(float)).fit() \n",
    "\n",
    "x_pred2 = sm.add_constant(x_pred)\n",
    "y_pred = regression1.predict(x_pred2)\n",
    "ax.plot(x_pred, y_pred, '-', color='darkorchid', linewidth=2)\n",
    "\n"
   ]
  },
  {
   "cell_type": "code",
   "execution_count": null,
   "metadata": {},
   "outputs": [],
   "source": [
    "print(regression1.summary())"
   ]
  },
  {
   "cell_type": "code",
   "execution_count": null,
   "metadata": {},
   "outputs": [],
   "source": [
    "#regression1.rsquared\n",
    "#regression1.rsquared_adj\n",
    "#regression1.pvalues[1]\n"
   ]
  },
  {
   "cell_type": "code",
   "execution_count": null,
   "metadata": {},
   "outputs": [],
   "source": [
    "list_of_lists = []\n",
    "list_of_lists.append([name,regression1.rsquared,regression1.rsquared_adj,regression1.params[1],regression1.pvalues[1] ])\n",
    "out=pd.DataFrame(list_of_lists, columns=['name', 'R-squared', 'R-squared-adj',\"Coef\",\"p-value\"])\n",
    "out"
   ]
  },
  {
   "cell_type": "code",
   "execution_count": null,
   "metadata": {},
   "outputs": [],
   "source": [
    "fig, ax = plt.subplots(figsize=(8, 4))\n",
    "ax.scatter(x1, y, alpha=0.5, color='orchid')\n",
    "x_pred = np.linspace(x.iloc[:,1].min(), x.iloc[:,1].max(), 50)\n",
    "x_pred2 = sm.add_constant(x_pred)\n",
    "y_pred = regression1.predict(x_pred2[:,1])\n",
    "ax.plot(x_pred, y_pred, '-', color='darkorchid', linewidth=2)"
   ]
  },
  {
   "cell_type": "code",
   "execution_count": null,
   "metadata": {},
   "outputs": [],
   "source": [
    "dTrigger=[]\n",
    "for i in range(len(Serie_B.iloc[:,8])):\n",
    "    dTrigger.append(1-Serie_B.iloc[i,8])\n",
    "P5=pd.Series(dTrigger)\n",
    "Serie_B[\"Trigger_Deffect\"]=P5.values\n",
    "\n",
    "sensor_des_structure=\".........................(((((((((((...(((((............)))))...)))))))))))......................\"\n",
    "\n",
    "Sensor_Defect=[]\n",
    "for i in range(len(Serie_B.iloc[:,2])): \n",
    "    Sensor_Defect.append(complex_defect(Serie_B.iloc[i,2],sensor_des_structure,\"Temp/\"))\n",
    "P6=pd.Series(Sensor_Defect)\n",
    "Serie_B[\"Sensor_Defect\"]=P6.values"
   ]
  },
  {
   "cell_type": "code",
   "execution_count": null,
   "metadata": {},
   "outputs": [],
   "source": [
    "Serie_B"
   ]
  },
  {
   "cell_type": "code",
   "execution_count": null,
   "metadata": {},
   "outputs": [],
   "source": [
    "from sklearn import linear_model\n",
    "import statsmodels.api as sm"
   ]
  },
  {
   "cell_type": "code",
   "execution_count": null,
   "metadata": {},
   "outputs": [],
   "source": [
    "fx=-1.08715198+33.10708952*Serie_B[\"Trigger_Deffect\"]-3.25*Serie_B[\"Sensor_Defect\"]+1.2965726*Serie_B[\"DeltaG_Trigger\"]-0.88692061*Serie_B[\"Dg_RBS_linker\"]"
   ]
  },
  {
   "cell_type": "code",
   "execution_count": null,
   "metadata": {},
   "outputs": [],
   "source": [
    "Y"
   ]
  },
  {
   "cell_type": "code",
   "execution_count": null,
   "metadata": {},
   "outputs": [],
   "source": [
    "plt.scatter(fx,Y)"
   ]
  },
  {
   "cell_type": "code",
   "execution_count": null,
   "metadata": {},
   "outputs": [],
   "source": [
    "\n",
    "X = Serie_B[[\"Sensor_Defect\",\"DeltaG_Trigger\"]] # here we have 2 variables for multiple regression. If you just want to use one variable for simple linear regression, then use X = df['Interest_Rate'] for example.Alternatively, you may add additional variables within the brackets\n",
    "Y = Serie_B[[\"On/Off Rate\"]] \n",
    "# with sklearn\n",
    "regr = linear_model.LinearRegression()\n",
    "regr.fit(X, Y)\n",
    "\n",
    "print('Intercept: \\n', regr.intercept_)\n",
    "print('Coefficients: \\n', regr.coef_)\n",
    "\n",
    "\n",
    "# with statsmodels\n",
    "X = sm.add_constant(X) # adding a constant\n",
    " \n",
    "model = sm.OLS(Y, X).fit()\n",
    "predictions = model.predict(X) \n",
    " \n",
    "print_model = model.summary()\n",
    "print(print_model)"
   ]
  },
  {
   "cell_type": "code",
   "execution_count": null,
   "metadata": {},
   "outputs": [],
   "source": [
    "plt.scatter(12.94282798-15.60454284*Serie_B[\"Sensor_Defect\"],Y)"
   ]
  },
  {
   "cell_type": "code",
   "execution_count": null,
   "metadata": {},
   "outputs": [],
   "source": [
    "Dg_Complex=[]\n",
    "for i in range(len(a.iloc[:,3])):\n",
    "    Dg_Complex.append(DG_2(a.iloc[i,2],a.iloc[i,3],\"\",2))\n",
    "P4=pd.Series(Dg_Complex)\n",
    "Serie_B[\"DeltaG_Complex\"]=P4.values"
   ]
  },
  {
   "cell_type": "code",
   "execution_count": null,
   "metadata": {},
   "outputs": [],
   "source": [
    "x=Serie_B.loc[:,\"Sensor_Defect\"]\n",
    "y=Serie_B.loc[:,\"On/Off Rate\"]\n",
    "print(rsquared(x,y))\n",
    "fit = np.polyfit(x,y,1)\n",
    "fit_fn = np.poly1d(fit) \n",
    "# fit_fn is now a function which takes in x and returns an estimate for y\n",
    "\n",
    "plt.plot(x,y, 'yo', x, fit_fn(x), '--k')\n",
    "#plt.xlim(0, 5)\n",
    "#plt.ylim(0, 12)\n",
    "#plt.scatter(x ,y)"
   ]
  },
  {
   "cell_type": "code",
   "execution_count": null,
   "metadata": {},
   "outputs": [],
   "source": [
    "slope, intercept, r_value, p_value, std_err = scipy.stats.linregress(x, y)\n",
    "def rsquared(x, y):\n",
    "    \"\"\" Return R^2 where x and y are array-like.\"\"\"\n",
    "\n",
    "    slope, intercept, r_value, p_value, std_err = scipy.stats.linregress(x, y)\n",
    "    return r_value**2"
   ]
  },
  {
   "cell_type": "code",
   "execution_count": null,
   "metadata": {},
   "outputs": [],
   "source": [
    "c=0\n",
    "for i in \".........................(((((((((((...(((((............)))))...)))))))))))......................\":\n",
    "    print (i,c)\n",
    "    c=c+1"
   ]
  },
  {
   "cell_type": "code",
   "execution_count": null,
   "metadata": {},
   "outputs": [],
   "source": [
    "a.iloc[11,4][101:(101+len(a.iloc[11,3]))]"
   ]
  },
  {
   "cell_type": "code",
   "execution_count": null,
   "metadata": {},
   "outputs": [],
   "source": [
    "a.iloc[:,2]"
   ]
  },
  {
   "cell_type": "code",
   "execution_count": null,
   "metadata": {},
   "outputs": [],
   "source": [
    "#FInding where starts the sequence of the trigger in the amplifyed sequence\n",
    "from skbio import Sequence\n",
    "s = Sequence(a.iloc[11,4])\n",
    "s.index(a.iloc[11,3])\n",
    "\n"
   ]
  },
  {
   "cell_type": "code",
   "execution_count": null,
   "metadata": {},
   "outputs": [],
   "source": [
    "plt.scatter(Serie_B.iloc[:,9],Serie_B.iloc[:,1])\n",
    "plt.xlabel(\"Trigger Defect\")\n",
    "plt.ylabel(\"On/Off ratio\")"
   ]
  },
  {
   "cell_type": "code",
   "execution_count": null,
   "metadata": {},
   "outputs": [],
   "source": [
    "Serie_B.loc[:,\"Trigger_Deffect\"]"
   ]
  },
  {
   "cell_type": "code",
   "execution_count": null,
   "metadata": {},
   "outputs": [],
   "source": [
    "LacZ=str(\"AUGACCAUGAUUACGGAUUCACUGGCCGUCGUUUUACAACGUCGUGACUGGGAAAACCCUGGCGUUACCCAACUUAAUCGCCUUGCAGCACAUCCCCCUUUCGCCAGCUGGCGUAAUAGCGAAGAGGCCCGCACCGAUCGCCCUUCCCAACAGUUGCGCAGCCUGAAUGGCGAAUGGCGCUUUGCCUGGUUUCCGGCACCAGAAGCGGUGCCGGAAAGCUGGCUGGAGUGCGAUCUUCCUGAGGCCGAUACUGUCGUCGUCCCCUCAAACUGGCAGAUGCACGGUUACGAUGCGCCCAUCUACACCAACGUGACCUAUCCCAUUACGGUCAAUCCGCCGUUUGUUCCCACGGAGAAUCCGACGGGUUGUUACUCGCUCACAUUUAAUGUUGAUGAAAGCUGGCUACAGGAAGGCCAGACGCGAAUUAUUUUUGAUGGCGUUAACUCGGCGUUUCAUCUGUGGUGCAACGGGCGCUGGGUCGGUUACGGCCAGGACAGUCGUUUGCCGUCUGAAUUUGACCUGAGCGCAUUUUUACGCGCCGGAGAAAACCGCCUCGCGGUGAUGGUGCUGCGCUGGAGUGACGGCAGUUAUCUGGAAGAUCAGGAUAUGUGGCGGAUGAGCGGCAUUUUCCGUGACGUCUCGUUGCUGCAUAAACCGACUACACAAAUCAGCGAUUUCCAUGUUGCCACUCGCUUUAAUGAUGAUUUCAGCCGCGCUGUACUGGAGGCUGAAGUUCAGAUGUGCGGCGAGUUGCGUGACUACCUACGGGUAACAGUUUCUUUAUGGCAGGGUGAAACGCAGGUCGCCAGCGGCACCGCGCCUUUCGGCGGUGAAAUUAUCGAUGAGCGUGGUGGUUAUGCCGAUCGCGUCACACUACGUCUGAACGUCGAAAACCCGAAACUGUGGAGCGCCGAAAUCCCGAAUCUCUAUCGUGCGGUGGUUGAACUGCACACCGCCGACGGCACGCUGAUUGAAGCAGAAGCCUGCGAUGUCGGUUUCCGCGAGGUGCGGAUUGAAAAUGGUCUGCUGCUGCUGAACGGCAAGCCGUUGCUGAUUCGAGGCGUUAACCGUCACGAGCAUCAUCCUCUGCAUGGUCAGGUCAUGGAUGAGCAGACGAUGGUGCAGGAUAUCCUGCUGAUGAAGCAGAACAACUUUAACGCCGUGCGCUGUUCGCAUUAUCCGAACCAUCCGCUGUGGUACACGCUGUGCGACCGCUACGGCCUGUAUGUGGUGGAUGAAGCCAAUAUUGAAACCCACGGCAUGGUGCCAAUGAAUCGUCUGACCGAUGAUCCGCGCUGGCUACCGGCGAUGAGCGAACGCGUAACGCGAAUGGUGCAGCGCGAUCGUAAUCACCCGAGUGUGAUCAUCUGGUCGCUGGGGAAUGAAUCAGGCCACGGCGCUAAUCACGACGCGCUGUAUCGCUGGAUCAAAUCUGUCGAUCCUUCCCGCCCGGUGCAGUAUGAAGGCGGCGGAGCCGACACCACGGCCACCGAUAUUAUUUGCCCGAUGUACGCGCGCGUGGAUGAAGACCAGCCCUUCCCGGCUGUGCCGAAAUGGUCCAUCAAAAAAUGGCUUUCGCUACCUGGAGAGACGCGCCCGCUGAUCCUUUGCGAAUACGCCCACGCGAUGGGUAACAGUCUUGGCGGUUUCGCUAAAUACUGGCAGGCGUUUCGUCAGUAUCCCCGUUUACAGGGCGGCUUCGUCUGGGACUGGGUGGAUCAGUCGCUGAUUAAAUAUGAUGAAAACGGCAACCCGUGGUCGGCUUACGGCGGUGAUUUUGGCGAUACGCCGAACGAUCGCCAGUUCUGUAUGAACGGUCUGGUCUUUGCCGACCGCACGCCGCAUCCAGCGCUGACGGAAGCAAAACACCAGCAGCAGUUUUUCCAGUUCCGUUUAUCCGGGCAAACCAUCGAAGUGACCAGCGAAUACCUGUUCCGUCAUAGCGAUAACGAGCUCCUGCACUGGAUGGUGGCGCUGGAUGGUAAGCCGCUGGCAAGCGGUGAAGUGCCUCUGGAUGUCGCUCCACAAGGUAAACAGUUGAUUGAACUGCCUGAACUACCGCAGCCGGAGAGCGCCGGGCAACUCUGGCUCACAGUACGCGUAGUGCAACCGAACGCGACCGCAUGGUCAGAAGCCGGGCACAUCAGCGCCUGGCAGCAGUGGCGUCUGGCGGAAAACCUCAGUGUGACGCUCCCCGCCGCGUCCCACGCCAUCCCGCAUCUGACCACCAGCGAAAUGGAUUUUUGCAUCGAGCUGGGUAAUAAGCGUUGGCAAUUUAACCGCCAGUCAGGCUUUCUUUCACAGAUGUGGAUUGGCGAUAAAAAACAACUGCUGACGCCGCUGCGCGAUCAGUUCACCCGUGCACCGCUGGAUAACGACAUUGGCGUAAGUGAAGCGACCCGCAUUGACCCUAACGCCUGGGUCGAACGCUGGAAGGCGGCGGGCCAUUACCAGGCCGAAGCAGCGUUGUUGCAGUGCACGGCAGAUACACUUGCUGAUGCGGUGCUGAUUACGACCGCUCACGCGUGGCAGCAUCAGGGGAAAACCUUAUUUAUCAGCCGGAAAACCUACCGGAUUGAUGGUAGUGGUCAAAUGGCGAUUACCGUUGAUGUUGAAGUGGCGAGCGAUACACCGCAUCCGGCGCGGAUUGGCCUGAACUGCCAGCUGGCGCAGGUAGCAGAGCGGGUAAACUGGCUCGGAUUAGGGCCGCAAGAAAACUAUCCCGACCGCCUUACUGCCGCCUGUUUUGACCGCUGGGAUCUGCCAUUGUCAGACAUGUAUACCCCGUACGUCUUCCCGAGCGAAAACGGUCUGCGCUGCGGGACGCGCGAAUUGAAUUAUGGCCCACACCAGUGGCGCGGCGACUUCCAGUUCAACAUCAGCCGCUACAGUCAACAGCAACUGAUGGAAACCAGCCAUCGCCAUCUGCUGCACGCGGAAGAAGGCACAUGGCUGAAUAUCGACGGUUUCCAUAUGGGGAUUGGUGGCGACGACUCCUGGAGCCCGUCAGUAUCGGCGGAAUUCCAGCUGAGCGCCGGUCGCUACCAUUACCAGUUGGUCUGGUGUCAAAAAUAAAGGU\")"
   ]
  },
  {
   "cell_type": "code",
   "execution_count": null,
   "metadata": {},
   "outputs": [],
   "source": [
    "complete_Sensor=[]\n",
    "for i in range(len((a.iloc[:,4]))):\n",
    "    complete_Sensor.append(a.iloc[i,2]+ str(LacZ))\n",
    "p20=complete_Sensor\n",
    "a[\"Complete_Sensor\"]=p20"
   ]
  },
  {
   "cell_type": "code",
   "execution_count": null,
   "metadata": {},
   "outputs": [],
   "source": [
    "a.iloc[:,9]"
   ]
  },
  {
   "cell_type": "code",
   "execution_count": null,
   "metadata": {},
   "outputs": [],
   "source": [
    "def ss_in_context(sequence,sub_sequence,result_path, wait=1):\n",
    "    s = Sequence(sequence)\n",
    "    initial=s.index(sub_sequence)\n",
    "\n",
    "    file = open('{}pipo.in'.format(result_path), 'w')\n",
    "    file.write(\"{}\\n\".format(sequence))\n",
    "    file.close()\n",
    "\n",
    "    Popen([\"pairs\", \"{}pipo\".format(result_path)], stdout=PIPE)\n",
    "    time.sleep(wait)\n",
    "    with open(\"{}pipo.ppairs\".format(result_path)) as res:\n",
    "        parsed_res = parse_pairs_result(res, len(sequence))\n",
    "\n",
    "    os.remove(\"{}pipo.ppairs\".format(result_path,))\n",
    "    os.remove(\"{}pipo.in\".format(result_path))\n",
    "    \n",
    "    \n",
    "    sin=parsed_res[initial:initial+len(sub_sequence)]\n",
    "    norm=(np.sum(sin)/len(sin))\n",
    "\n",
    "\n",
    "    return norm"
   ]
  },
  {
   "cell_type": "code",
   "execution_count": null,
   "metadata": {},
   "outputs": [],
   "source": [
    "s = Sequence(a.iloc[11,4])\n",
    "s.index(a.iloc[11,3])\n",
    "len(a.iloc[11,4])\n",
    "b=ss_in_context(a.iloc[11,4],a.iloc[11,3],\"\",5)\n",
    "b"
   ]
  },
  {
   "cell_type": "code",
   "execution_count": null,
   "metadata": {},
   "outputs": [],
   "source": [
    "SS_Trigger_in_context=[]\n",
    "for i in range(len(a.iloc[:,3])):\n",
    "    print(\"Calculating\" +str(i))\n",
    "    sin=ss_in_context(a.iloc[i,4],a.iloc[i,3],\"\",5)\n",
    "    SS_Trigger_in_context.append(sin)\n",
    "\n",
    "SS_Trigger_in_context"
   ]
  },
  {
   "cell_type": "code",
   "execution_count": null,
   "metadata": {},
   "outputs": [],
   "source": [
    "p9=pd.Series(SS_Trigger_in_context)\n",
    "a[\"SS_Th_in_context\"]=p9\n",
    "a\n"
   ]
  },
  {
   "cell_type": "code",
   "execution_count": null,
   "metadata": {},
   "outputs": [],
   "source": [
    "p7=pd.Series(SS_Trigger_in_context)\n",
    "a[\"SS_Trigger_in_context\"]=p7"
   ]
  },
  {
   "cell_type": "code",
   "execution_count": null,
   "metadata": {},
   "outputs": [],
   "source": [
    "a.iloc[:,2]"
   ]
  },
  {
   "cell_type": "code",
   "execution_count": null,
   "metadata": {},
   "outputs": [],
   "source": [
    "t=Sequence(a.iloc[i,2][0:25])\n",
    "t"
   ]
  },
  {
   "cell_type": "code",
   "execution_count": null,
   "metadata": {},
   "outputs": [],
   "source": [
    "a.iloc[:,9]"
   ]
  },
  {
   "cell_type": "code",
   "execution_count": null,
   "metadata": {},
   "outputs": [],
   "source": [
    "a.iloc[8,9]"
   ]
  },
  {
   "cell_type": "code",
   "execution_count": null,
   "metadata": {},
   "outputs": [],
   "source": [
    "s = Sequence(a.iloc[i,9])\n",
    "initial=s.index(a.iloc[i,2][0:25])\n",
    "with open(\"{}pipo.ppairs\".format(\"\")) as res:\n",
    "    parsed_res = parse_pairs_result(res, len(a.iloc[i,9]))\n",
    "\n",
    "    os.remove(\"{}pipo.ppairs\".format(\"\",))\n",
    "    os.remove(\"{}pipo.in\".format(\"\"))\n",
    "    \n",
    "    \n",
    "    sin=parsed_res[initial:initial+len(a.iloc[i,2][0:25])]\n",
    "    norm=(np.sum(sin)/len(sin))\n",
    "norm"
   ]
  },
  {
   "cell_type": "code",
   "execution_count": null,
   "metadata": {},
   "outputs": [],
   "source": [
    "SS_Toehold_in_context=[]\n",
    "for i in range(len(a.iloc[:,3])):\n",
    "    print(\"Calculating\" +str(i))\n",
    "    SS_Toehold_in_context.append(ss_pin_context(a.iloc[i,9],a.iloc[i,2][0:25],\"\",6000))"
   ]
  },
  {
   "cell_type": "code",
   "execution_count": null,
   "metadata": {},
   "outputs": [],
   "source": [
    "SS_Toehold_in_context"
   ]
  },
  {
   "cell_type": "code",
   "execution_count": null,
   "metadata": {},
   "outputs": [],
   "source": [
    "types=[]\n",
    "for i in range(len(a.iloc[:,3])):\n",
    "    if (a.iloc[i,2][25])==\"C\"or (a.iloc[i,2][25])==\"G\":\n",
    "        types.append(\"S\")\n",
    "    else:\n",
    "        types.append(\"W\")\n",
    "\n",
    "    print(a.iloc[i,2][25],types[i])  \n",
    "    "
   ]
  },
  {
   "cell_type": "code",
   "execution_count": null,
   "metadata": {},
   "outputs": [],
   "source": [
    "types_2=[]\n",
    "for i in range(len(a.iloc[:,3])):\n",
    "    if (a.iloc[i,2][26])==\"C\" or (a.iloc[i,2][26])==\"G\":\n",
    "        types_2.append(\"S\")\n",
    "    else:\n",
    "        types_2.append(\"W\")\n",
    "    print(a.iloc[i,2][26],types_2[i]) "
   ]
  },
  {
   "cell_type": "code",
   "execution_count": null,
   "metadata": {},
   "outputs": [],
   "source": [
    "two=[]\n",
    "for i in range(len(types_2)):\n",
    "    two.append(types[i] + types_2[i])"
   ]
  },
  {
   "cell_type": "code",
   "execution_count": null,
   "metadata": {},
   "outputs": [],
   "source": [
    "for i in range(len(types_2)):\n",
    "    print(a.iloc[i,1],two[i])"
   ]
  },
  {
   "cell_type": "code",
   "execution_count": null,
   "metadata": {},
   "outputs": [],
   "source": [
    "p8=pd.Series(types)\n",
    "a[\"First_invading\"]=p8"
   ]
  },
  {
   "cell_type": "code",
   "execution_count": null,
   "metadata": {},
   "outputs": [],
   "source": [
    "#correlation first analisis\n",
    "import numpy as np\n",
    "from scipy import stats\n",
    "import pandas as pd\n",
    "import seaborn as sns\n",
    "import matplotlib.pyplot as plt\n",
    "sns.set(style=\"white\")\n",
    "\n",
    "plt.figure(figsize=(5,20))\n",
    "\n",
    "def corrfunc(x, y, **kws):\n",
    "    r, _ = stats.pearsonr(x, y)\n",
    "    ax = plt.gca()\n",
    "    pos = (.1, .9) if kws['label'] == 'W' else (.1,.8)\n",
    "    ax.annotate(\"r = {:.2f}\".format(kws['label'],r),\n",
    "                xy=pos, xycoords=ax.transAxes)\n",
    "    \n",
    "\n",
    "\n",
    "\n",
    "  \n",
    "    \n",
    "g = sns.pairplot(a, \n",
    "                 y_vars=[\"On/Off Rate\"],\n",
    "                 x_vars=[\"SS_Th_in_context\",\"DeltaG_Switch\",\"SS_Trigger_in_context\",\"DeltaG_Complex\",\"DeltaG_Trigger\",\"Dg_RBS_linker\",\"Single_Streadness_Trigger\",\"diff_DG\"],\n",
    "                 hue=\"First_invading\")\n",
    "                \n",
    "#g.map(corrfunc)\n",
    "#plt.show()  \n",
    "#g.map_diag(sns.distplot, kde=False)\n",
    "#g.map_lower(sns.kdeplot, cmap=\"Blues_d\")\n",
    "\n",
    "\n",
    "plt.tight_layout()\n",
    "plt.savefig(\"para_B.pdf\",dpi=500)\n",
    "\n"
   ]
  },
  {
   "cell_type": "code",
   "execution_count": null,
   "metadata": {},
   "outputs": [],
   "source": [
    "p9=pd.Series(two)\n",
    "a[\"First2_invading\"]=p9"
   ]
  },
  {
   "cell_type": "code",
   "execution_count": null,
   "metadata": {},
   "outputs": [],
   "source": []
  },
  {
   "cell_type": "code",
   "execution_count": null,
   "metadata": {},
   "outputs": [],
   "source": [
    "import matplotlib.pyplot as plt"
   ]
  },
  {
   "cell_type": "code",
   "execution_count": null,
   "metadata": {},
   "outputs": [],
   "source": [
    "\n",
    "plt.figure(figsize=(20,20))\n",
    "c=0\n",
    "Dg_INv_f=[]\n",
    "inviding_f=[]\n",
    "for j in range(len(a.iloc[:,3])):\n",
    "    Dg_INv=[]\n",
    "    inviding=[]\n",
    "    c=j+1\n",
    "    ax=plt.subplot(6,4,c)\n",
    "    \n",
    "    for i in range(13):\n",
    "        print(a.iloc[j,3][(13-i):])\n",
    "        Dg_INv.append(DG_2(a.iloc[j,2],a.iloc[j,3][(13-i):],\"\",2))\n",
    "        inviding.append(i)\n",
    "    Dg_INv_f.append(Dg_INv)\n",
    "    inviding_f.append(j)\n",
    "    plt.xlabel(\"Number of invading nucleotides\")\n",
    "    plt.ylabel(\"Free Energy of the complex\")\n",
    "\n",
    "    plt.plot(inviding,Dg_INv,label=\"Sensor %s B + Trigger\"  % str(a.Sensor[j]))\n",
    "    plt.legend(loc=0)\n",
    "#plt.show() \n",
    "\n",
    "plt.tight_layout()\n",
    "plt.savefig(\"Serie_B.pdf\",dpi=500)"
   ]
  },
  {
   "cell_type": "code",
   "execution_count": null,
   "metadata": {},
   "outputs": [],
   "source": [
    "diff_DG=[]\n",
    "for i in range(len(a.iloc[:,3])):\n",
    "    diff_DG.append(Dg_INv_f[i][0]-Dg_INv_f[i][-1])\n",
    "P4=pd.Series(diff_DG)\n",
    "a[\"diff_DG\"]=P4.values "
   ]
  },
  {
   "cell_type": "code",
   "execution_count": null,
   "metadata": {},
   "outputs": [],
   "source": [
    "range(24)"
   ]
  },
  {
   "cell_type": "code",
   "execution_count": null,
   "metadata": {},
   "outputs": [],
   "source": [
    "Dg_RBS_linker=[]\n",
    "for i in range(len(a.iloc[:,3])):\n",
    "    RBS_linker=a.iloc[i,2][48:96]\n",
    "    Dg_RBS_linker.append(DG(RBS_linker,\"\",2))\n",
    "P11=pd.Series(Dg_RBS_linker)"
   ]
  },
  {
   "cell_type": "code",
   "execution_count": null,
   "metadata": {},
   "outputs": [],
   "source": [
    "a[\"Dg_RBS_linker\"]=P11.values"
   ]
  },
  {
   "cell_type": "code",
   "execution_count": null,
   "metadata": {},
   "outputs": [],
   "source": [
    "a"
   ]
  },
  {
   "cell_type": "code",
   "execution_count": null,
   "metadata": {},
   "outputs": [],
   "source": [
    "plt.gca?"
   ]
  },
  {
   "cell_type": "code",
   "execution_count": null,
   "metadata": {},
   "outputs": [],
   "source": [
    "a\n"
   ]
  },
  {
   "cell_type": "code",
   "execution_count": null,
   "metadata": {},
   "outputs": [],
   "source": []
  }
 ],
 "metadata": {
  "kernelspec": {
   "display_name": "Python 3",
   "language": "python",
   "name": "python3"
  }
 },
 "nbformat": 4,
 "nbformat_minor": 2
}
