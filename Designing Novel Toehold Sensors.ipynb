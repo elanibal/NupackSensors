{
 "cells": [
  {
   "cell_type": "markdown",
   "metadata": {},
   "source": [
    "# Designing Novel Toehold Sensors"
   ]
  },
  {
   "cell_type": "markdown",
   "metadata": {},
   "source": [
    "## Steps \n",
    "1. Define a specific target sequence\n",
    "2. Divide the sequence in windows of the same length of the trigger (36nt)\n",
    "3. For each possible trigger, define a toehold sensor sequence\n",
    "4. Filter sequences that contain stop codons\n",
    "5. Evaluate sequence properties using NUPACK and rank them"
   ]
  },
  {
   "cell_type": "markdown",
   "metadata": {},
   "source": [
    "### Import dependencies"
   ]
  },
  {
   "cell_type": "code",
   "execution_count": 1,
   "metadata": {},
   "outputs": [],
   "source": [
    "import os\n",
    "import os.path\n",
    "import numpy as np\n",
    "import pandas as pd\n",
    "import time\n",
    "import subprocess\n",
    "from tqdm.notebook import tnrange"
   ]
  },
  {
   "cell_type": "markdown",
   "metadata": {},
   "source": [
    "### Define library functions"
   ]
  },
  {
   "cell_type": "code",
   "execution_count": 2,
   "metadata": {},
   "outputs": [],
   "source": [
    "def reversed_complement(sequence):\n",
    "    mapping = {'A': 'U', 'G': 'C', 'U': 'A', 'C': 'G'}\n",
    "    sequence_upper = sequence.upper()\n",
    "\n",
    "    complement = ''\n",
    "    for c in sequence_upper:\n",
    "        complement += mapping[c]\n",
    "\n",
    "    # reverse the sequence\n",
    "    return complement[::-1]\n",
    "\n",
    "def split_sequence(sequence, window):\n",
    "    sequences = []\n",
    "    limit = len(sequence) - window + 1\n",
    "\n",
    "    for i in range(0, limit):\n",
    "        sequences.append(sequence[i:window + i])\n",
    "\n",
    "    return sequences\n",
    "\n",
    "def no_stop(sequence):\n",
    "    stop = ['UAA', 'UAG', 'UGA']\n",
    "\n",
    "    for i in range(0, len(sequence), 3):\n",
    "        if sequence[i:i + 3] in stop:\n",
    "            return False\n",
    "\n",
    "    return True\n",
    "\n",
    "def possible_toehold_B(reg, rev):\n",
    "    \n",
    "    #to avoid any posterior conflicts please write loops and linkers in RNA form!\n",
    "    \n",
    "    loop = 'GGACUUUAGAACAGAGGAGAUAAAGAUG' # The last three nucleotides is AUG, the start codon.\n",
    "    \n",
    "    linker = 'ACCUGGCGGCAGCGCAAGAAG'#( from Green paper 2019 se, NOTE THAT IT DOES NOT HAVE THE MOCLO SITE C,  AATG)\n",
    "    \n",
    "    #other linkers = \"AACCUGGCGGCAGCGCAAGAAGAUGCGUAAA\" \n",
    "    toeholds = []\n",
    "    for n in ['A', 'G', 'U', 'C']: \n",
    "        if no_stop(reg[0:11] + linker):\n",
    "            toeholds.append(rev + loop + reg[0:11] + linker)\n",
    "            return toeholds      \n",
    "    \n",
    "    toeholds.append(\"STOP\")\n",
    "    return toeholds\n"
   ]
  },
  {
   "cell_type": "markdown",
   "metadata": {},
   "source": [
    "### Step 1: Define a target sequence\n",
    "In this case, we use the  5' of the glycoprotein 1 from PVY:"
   ]
  },
  {
   "cell_type": "code",
   "execution_count": 3,
   "metadata": {},
   "outputs": [],
   "source": [
    "#seq = \"GGAGTTTGGGTTATGATGGATGGAGATGAACAAGTCGAATACCCACTGAAACCAATCGTTGAGAATGCAAAACCAACACTTAGGCAAATCATGGCACATTTCTCAGATGTTGCAGAAGCGTATATAGAAATGCGCAACAAAAAGGAACCATATATGCCACGATATGGTTTAGTTCGTAATCTGCGCGATGGAAGTTTGGCTCGCTATGCTTTTGACTTTTATG\"\n",
    "#seq= \"TGCAATGGGATAGAGCTGATCTGCCAGAGCACAGATTAGAAGCGATTTGTGCAGCAATGATAGAATCCTGGGGTTATTTTGAGTTAACGCACCAAATCAGGAGATTCTACTCATGGTTGTTGCAACAGCAACCTTTTTCAACGATAGC\"\n",
    "#seq= \"GGAGTTTGGGTTATGATGGATGGAGATGAACAAGTCGAATACCCACTGAAACCAATCGTTGAGAATGCAAAACCAACACTTAGGCAAATCATGGCACATTTCTCAGATGTTGCAGAAGCGTATATAGAAATGCGCAACAAAAAGGAACCATATATGCCACGATATGGTTTAGTTCGTAATCTGCGCGATGGAAGTTTGGCTCGCTATGCTTTTGACTTTTATGAAGTTAC\"\n",
    "seq = \"gtactgccaactggatccttcgcgggacgtcctttgtttacgtcccgtcggcgctgaatcccgcggacgacccctctcggggccgcttgggactctctcgtccccttctccgtctgccgttccagccgaccacggggcgcacctctctttacgcggtctccccgtctgtgccttctcatctgccggtccgtgtgcacttcgcttcacctctgcacgttgcatggagaccaccgtgaacgcccatcagatcctgcccaaggtcttacataagaggactcttggactcccagcaatgtcaacgaccgaccttgaggcctacttcaaagactgtgtgtttaaggactg\"\n"
   ]
  },
  {
   "cell_type": "markdown",
   "metadata": {},
   "source": [
    "Convert to RNA and determine the reverse complement."
   ]
  },
  {
   "cell_type": "code",
   "execution_count": 4,
   "metadata": {},
   "outputs": [],
   "source": [
    "processed_sequence = seq.upper().replace('T', 'U') #/.replace(' ', '')\n",
    "rc = reversed_complement(processed_sequence)"
   ]
  },
  {
   "cell_type": "markdown",
   "metadata": {},
   "source": [
    "### Step 2: Determine 36-nucleotide sub-sequences\n",
    "To do this, we make all possible triggers for the direct and reversed complementary sequence. \n",
    "¿How many sub-sequences of 36 nt do we need to analyze ?"
   ]
  },
  {
   "cell_type": "code",
   "execution_count": 5,
   "metadata": {},
   "outputs": [
    {
     "data": {
      "text/plain": [
       "310"
      ]
     },
     "execution_count": 5,
     "metadata": {},
     "output_type": "execute_result"
    }
   ],
   "source": [
    "len(split_sequence(rc,36))"
   ]
  },
  {
   "cell_type": "code",
   "execution_count": 6,
   "metadata": {},
   "outputs": [
    {
     "data": {
      "text/html": [
       "<div>\n",
       "<style scoped>\n",
       "    .dataframe tbody tr th:only-of-type {\n",
       "        vertical-align: middle;\n",
       "    }\n",
       "\n",
       "    .dataframe tbody tr th {\n",
       "        vertical-align: top;\n",
       "    }\n",
       "\n",
       "    .dataframe thead th {\n",
       "        text-align: right;\n",
       "    }\n",
       "</style>\n",
       "<table border=\"1\" class=\"dataframe\">\n",
       "  <thead>\n",
       "    <tr style=\"text-align: right;\">\n",
       "      <th></th>\n",
       "      <th>Triggers</th>\n",
       "      <th>Sense</th>\n",
       "    </tr>\n",
       "  </thead>\n",
       "  <tbody>\n",
       "    <tr>\n",
       "      <th>0</th>\n",
       "      <td>GUACUGCCAACUGGAUCCUUCGCGGGACGUCCUUUG</td>\n",
       "      <td>Direct</td>\n",
       "    </tr>\n",
       "    <tr>\n",
       "      <th>1</th>\n",
       "      <td>UACUGCCAACUGGAUCCUUCGCGGGACGUCCUUUGU</td>\n",
       "      <td>Direct</td>\n",
       "    </tr>\n",
       "    <tr>\n",
       "      <th>2</th>\n",
       "      <td>ACUGCCAACUGGAUCCUUCGCGGGACGUCCUUUGUU</td>\n",
       "      <td>Direct</td>\n",
       "    </tr>\n",
       "    <tr>\n",
       "      <th>3</th>\n",
       "      <td>CUGCCAACUGGAUCCUUCGCGGGACGUCCUUUGUUU</td>\n",
       "      <td>Direct</td>\n",
       "    </tr>\n",
       "    <tr>\n",
       "      <th>4</th>\n",
       "      <td>UGCCAACUGGAUCCUUCGCGGGACGUCCUUUGUUUA</td>\n",
       "      <td>Direct</td>\n",
       "    </tr>\n",
       "  </tbody>\n",
       "</table>\n",
       "</div>"
      ],
      "text/plain": [
       "                               Triggers   Sense\n",
       "0  GUACUGCCAACUGGAUCCUUCGCGGGACGUCCUUUG  Direct\n",
       "1  UACUGCCAACUGGAUCCUUCGCGGGACGUCCUUUGU  Direct\n",
       "2  ACUGCCAACUGGAUCCUUCGCGGGACGUCCUUUGUU  Direct\n",
       "3  CUGCCAACUGGAUCCUUCGCGGGACGUCCUUUGUUU  Direct\n",
       "4  UGCCAACUGGAUCCUUCGCGGGACGUCCUUUGUUUA  Direct"
      ]
     },
     "execution_count": 6,
     "metadata": {},
     "output_type": "execute_result"
    }
   ],
   "source": [
    "d_1 = {'Triggers': split_sequence(processed_sequence,36)}\n",
    "df_1 = pd.DataFrame(data=d_1)\n",
    "df_1[\"Sense\"]=\"Direct\"\n",
    "\n",
    "d_2 = {'Triggers': split_sequence(rc,36)}\n",
    "df_2 = pd.DataFrame(data=d_2)\n",
    "df_2[\"Sense\"]=\"Reversed Complement\"\n",
    "frames = [df_1, df_2]\n",
    "result = pd.concat(frames)\n",
    "result.head()"
   ]
  },
  {
   "cell_type": "markdown",
   "metadata": {},
   "source": [
    "### Step 3: For each trigger, design a toehold sensor"
   ]
  },
  {
   "cell_type": "code",
   "execution_count": 7,
   "metadata": {},
   "outputs": [
    {
     "data": {
      "text/html": [
       "<div>\n",
       "<style scoped>\n",
       "    .dataframe tbody tr th:only-of-type {\n",
       "        vertical-align: middle;\n",
       "    }\n",
       "\n",
       "    .dataframe tbody tr th {\n",
       "        vertical-align: top;\n",
       "    }\n",
       "\n",
       "    .dataframe thead th {\n",
       "        text-align: right;\n",
       "    }\n",
       "</style>\n",
       "<table border=\"1\" class=\"dataframe\">\n",
       "  <thead>\n",
       "    <tr style=\"text-align: right;\">\n",
       "      <th></th>\n",
       "      <th>Triggers</th>\n",
       "      <th>Sense</th>\n",
       "      <th>Toehold Switch</th>\n",
       "    </tr>\n",
       "  </thead>\n",
       "  <tbody>\n",
       "    <tr>\n",
       "      <th>0</th>\n",
       "      <td>GUACUGCCAACUGGAUCCUUCGCGGGACGUCCUUUG</td>\n",
       "      <td>Direct</td>\n",
       "      <td>CAAAGGACGUCCCGCGAAGGAUCCAGUUGGCAGUACGGACUUUAGA...</td>\n",
       "    </tr>\n",
       "    <tr>\n",
       "      <th>1</th>\n",
       "      <td>UACUGCCAACUGGAUCCUUCGCGGGACGUCCUUUGU</td>\n",
       "      <td>Direct</td>\n",
       "      <td>ACAAAGGACGUCCCGCGAAGGAUCCAGUUGGCAGUAGGACUUUAGA...</td>\n",
       "    </tr>\n",
       "    <tr>\n",
       "      <th>2</th>\n",
       "      <td>ACUGCCAACUGGAUCCUUCGCGGGACGUCCUUUGUU</td>\n",
       "      <td>Direct</td>\n",
       "      <td>STOP</td>\n",
       "    </tr>\n",
       "    <tr>\n",
       "      <th>3</th>\n",
       "      <td>CUGCCAACUGGAUCCUUCGCGGGACGUCCUUUGUUU</td>\n",
       "      <td>Direct</td>\n",
       "      <td>AAACAAAGGACGUCCCGCGAAGGAUCCAGUUGGCAGGGACUUUAGA...</td>\n",
       "    </tr>\n",
       "    <tr>\n",
       "      <th>4</th>\n",
       "      <td>UGCCAACUGGAUCCUUCGCGGGACGUCCUUUGUUUA</td>\n",
       "      <td>Direct</td>\n",
       "      <td>UAAACAAAGGACGUCCCGCGAAGGAUCCAGUUGGCAGGACUUUAGA...</td>\n",
       "    </tr>\n",
       "  </tbody>\n",
       "</table>\n",
       "</div>"
      ],
      "text/plain": [
       "                               Triggers   Sense  \\\n",
       "0  GUACUGCCAACUGGAUCCUUCGCGGGACGUCCUUUG  Direct   \n",
       "1  UACUGCCAACUGGAUCCUUCGCGGGACGUCCUUUGU  Direct   \n",
       "2  ACUGCCAACUGGAUCCUUCGCGGGACGUCCUUUGUU  Direct   \n",
       "3  CUGCCAACUGGAUCCUUCGCGGGACGUCCUUUGUUU  Direct   \n",
       "4  UGCCAACUGGAUCCUUCGCGGGACGUCCUUUGUUUA  Direct   \n",
       "\n",
       "                                      Toehold Switch  \n",
       "0  CAAAGGACGUCCCGCGAAGGAUCCAGUUGGCAGUACGGACUUUAGA...  \n",
       "1  ACAAAGGACGUCCCGCGAAGGAUCCAGUUGGCAGUAGGACUUUAGA...  \n",
       "2                                               STOP  \n",
       "3  AAACAAAGGACGUCCCGCGAAGGAUCCAGUUGGCAGGGACUUUAGA...  \n",
       "4  UAAACAAAGGACGUCCCGCGAAGGAUCCAGUUGGCAGGACUUUAGA...  "
      ]
     },
     "execution_count": 7,
     "metadata": {},
     "output_type": "execute_result"
    }
   ],
   "source": [
    "toeholds = [possible_toehold_B(r,reversed_complement(r))[0] for r in result['Triggers']]\n",
    "result[\"Toehold Switch\"] = toeholds\n",
    "result.head()"
   ]
  },
  {
   "cell_type": "markdown",
   "metadata": {},
   "source": [
    "### Step 4: Remove sensors with STOP codons"
   ]
  },
  {
   "cell_type": "code",
   "execution_count": 8,
   "metadata": {},
   "outputs": [
    {
     "data": {
      "text/html": [
       "<div>\n",
       "<style scoped>\n",
       "    .dataframe tbody tr th:only-of-type {\n",
       "        vertical-align: middle;\n",
       "    }\n",
       "\n",
       "    .dataframe tbody tr th {\n",
       "        vertical-align: top;\n",
       "    }\n",
       "\n",
       "    .dataframe thead th {\n",
       "        text-align: right;\n",
       "    }\n",
       "</style>\n",
       "<table border=\"1\" class=\"dataframe\">\n",
       "  <thead>\n",
       "    <tr style=\"text-align: right;\">\n",
       "      <th></th>\n",
       "      <th>Triggers</th>\n",
       "      <th>Sense</th>\n",
       "      <th>Toehold Switch</th>\n",
       "    </tr>\n",
       "  </thead>\n",
       "  <tbody>\n",
       "    <tr>\n",
       "      <th>0</th>\n",
       "      <td>GUACUGCCAACUGGAUCCUUCGCGGGACGUCCUUUG</td>\n",
       "      <td>Direct</td>\n",
       "      <td>CAAAGGACGUCCCGCGAAGGAUCCAGUUGGCAGUACGGACUUUAGA...</td>\n",
       "    </tr>\n",
       "    <tr>\n",
       "      <th>1</th>\n",
       "      <td>UACUGCCAACUGGAUCCUUCGCGGGACGUCCUUUGU</td>\n",
       "      <td>Direct</td>\n",
       "      <td>ACAAAGGACGUCCCGCGAAGGAUCCAGUUGGCAGUAGGACUUUAGA...</td>\n",
       "    </tr>\n",
       "    <tr>\n",
       "      <th>3</th>\n",
       "      <td>CUGCCAACUGGAUCCUUCGCGGGACGUCCUUUGUUU</td>\n",
       "      <td>Direct</td>\n",
       "      <td>AAACAAAGGACGUCCCGCGAAGGAUCCAGUUGGCAGGGACUUUAGA...</td>\n",
       "    </tr>\n",
       "    <tr>\n",
       "      <th>4</th>\n",
       "      <td>UGCCAACUGGAUCCUUCGCGGGACGUCCUUUGUUUA</td>\n",
       "      <td>Direct</td>\n",
       "      <td>UAAACAAAGGACGUCCCGCGAAGGAUCCAGUUGGCAGGACUUUAGA...</td>\n",
       "    </tr>\n",
       "    <tr>\n",
       "      <th>5</th>\n",
       "      <td>GCCAACUGGAUCCUUCGCGGGACGUCCUUUGUUUAC</td>\n",
       "      <td>Direct</td>\n",
       "      <td>GUAAACAAAGGACGUCCCGCGAAGGAUCCAGUUGGCGGACUUUAGA...</td>\n",
       "    </tr>\n",
       "  </tbody>\n",
       "</table>\n",
       "</div>"
      ],
      "text/plain": [
       "                               Triggers   Sense  \\\n",
       "0  GUACUGCCAACUGGAUCCUUCGCGGGACGUCCUUUG  Direct   \n",
       "1  UACUGCCAACUGGAUCCUUCGCGGGACGUCCUUUGU  Direct   \n",
       "3  CUGCCAACUGGAUCCUUCGCGGGACGUCCUUUGUUU  Direct   \n",
       "4  UGCCAACUGGAUCCUUCGCGGGACGUCCUUUGUUUA  Direct   \n",
       "5  GCCAACUGGAUCCUUCGCGGGACGUCCUUUGUUUAC  Direct   \n",
       "\n",
       "                                      Toehold Switch  \n",
       "0  CAAAGGACGUCCCGCGAAGGAUCCAGUUGGCAGUACGGACUUUAGA...  \n",
       "1  ACAAAGGACGUCCCGCGAAGGAUCCAGUUGGCAGUAGGACUUUAGA...  \n",
       "3  AAACAAAGGACGUCCCGCGAAGGAUCCAGUUGGCAGGGACUUUAGA...  \n",
       "4  UAAACAAAGGACGUCCCGCGAAGGAUCCAGUUGGCAGGACUUUAGA...  \n",
       "5  GUAAACAAAGGACGUCCCGCGAAGGAUCCAGUUGGCGGACUUUAGA...  "
      ]
     },
     "execution_count": 8,
     "metadata": {},
     "output_type": "execute_result"
    }
   ],
   "source": [
    "df = result[result.iloc[:,2] != \"STOP\"]\n",
    "df.head()"
   ]
  },
  {
   "cell_type": "markdown",
   "metadata": {},
   "source": [
    "### Step 5: Evaluate sequence properties using NUPACK \n",
    "\n",
    "Some scoring functions from Ma, D, et al. 2018):\n",
    "- Three-parameter fit (R2 = 0.57):\n",
    "- Fold change = –71.7 dfull_sensor  – 49.1 dactive_sensor – 22.6 dbinding_site + 54.3\n",
    "\n",
    "- Four-parameter fit (R2 = 0.60):\n",
    "- Fold change = –93.2 dfull_sensor – 43.3 dactive_sensor – 22.1 dbinding_site – 9.4 dmin_target + 61.3\n",
    "\n",
    "Definitions:\n",
    "- Ensemble Defect: Represents the average number of incorrectly paired nucleotides at equilibrium, evaluated over the ensemble of the complex.\n",
    "- dfull_sensor:  Ensemble defect for the full toehold switch sequence and structure. \n",
    "- dactive_sensor: Ensemble defect was calculated directly from the sequence from the first base of the loop sequence. A completely single-stranded secondary structure was used for assessing design quality for dactive_sensor.\n",
    "- dbinding_site: Ensemble defect was calculated in an analogous manner using the pairwise binding probabilities of the complete target RNA sequence and specifying a completely single-stranded ideal secondary structure in the binding site region."
   ]
  },
  {
   "cell_type": "markdown",
   "metadata": {},
   "source": [
    "#### Library functions\n",
    "- Calculation of the minimum free energy (MFE) secondary structure of a singular RNA sequence\n",
    "- NUPACK analysis"
   ]
  },
  {
   "cell_type": "code",
   "execution_count": 28,
   "metadata": {},
   "outputs": [],
   "source": [
    "def DG(sequence, result_path, wait=0.2):\n",
    "    file = open('{}pipo.in'.format(result_path), 'w')\n",
    "    file.write(\"{}\\n\".format(sequence))\n",
    "    file.close()\n",
    "    final=[]\n",
    "    semi_final=[]\n",
    "    \n",
    "    cmd = \"mfe -T 29 {}pipo\".format(result_path)\n",
    "    subprocess.run(cmd, universal_newlines=True, shell=True)      # Here is the error.\n",
    "\n",
    "    with open(\"{}pipo.mfe\".format(result_path)) as res:\n",
    "        for r in res:\n",
    "            r = r.strip('\\n')\n",
    "            if not r.startswith('%'):\n",
    "                r = r.split('\\t')\n",
    "                semi_final.append(r)\n",
    "\n",
    "    #final.append()                \n",
    "\n",
    "    os.remove(\"{}pipo.mfe\".format(result_path,))\n",
    "    os.remove(\"{}pipo.in\".format(result_path))\n",
    "    return (float(semi_final[2][0]))\n",
    "            \n",
    "def complex_defect(sequence, secondary, result_path):\n",
    "    file = open('{}toeh.in'.format(result_path), 'w')\n",
    "    file.write(\"{}\\n\".format(sequence))\n",
    "    file.write(\"{}\".format(secondary))\n",
    "    file.close()\n",
    "\n",
    "    defect_toeh = 0\n",
    "    count = 0\n",
    "    with subprocess.Popen([\"complexdefect\", \"{}toeh\".format(result_path)], stdout=subprocess.PIPE) as proc:\n",
    "        res = (proc.stdout.read()).decode(\"utf-8\").split('\\n')\n",
    "        for l in res:\n",
    "            count += 1\n",
    "            if count == 16:\n",
    "                defect_toeh = float(l)\n",
    "\n",
    "    os.remove(\"{}toeh.in\".format(result_path))\n",
    "    return defect_toeh\n",
    "\n",
    "\n",
    "Activated_THS_Structure=\"...(((((............)))))...................................\"\n",
    "linear_Structure_25=\".........................\"\n",
    "secondary_sensor_B = '.........................(((((((((((...(((((............)))))...))))))))))).....................'\n",
    "secondary_2=\"((((((((((((((((((((((((((((((((((((...(((((............)))))...................................+))))))))))))))))))))))))))))))))))))\""
   ]
  },
  {
   "cell_type": "markdown",
   "metadata": {},
   "source": [
    "#### Calculation of the thermodynamic parameters for each design"
   ]
  },
  {
   "cell_type": "code",
   "execution_count": 29,
   "metadata": {
    "tags": []
   },
   "outputs": [
    {
     "data": {
      "application/vnd.jupyter.widget-view+json": {
       "model_id": "3f87f4a026224dd6adaf71544c68bb92",
       "version_major": 2,
       "version_minor": 0
      },
      "text/html": [
       "<p>Failed to display Jupyter Widget of type <code>HBox</code>.</p>\n",
       "<p>\n",
       "  If you're reading this message in the Jupyter Notebook or JupyterLab Notebook, it may mean\n",
       "  that the widgets JavaScript is still loading. If this message persists, it\n",
       "  likely means that the widgets JavaScript library is either not installed or\n",
       "  not enabled. See the <a href=\"https://ipywidgets.readthedocs.io/en/stable/user_install.html\">Jupyter\n",
       "  Widgets Documentation</a> for setup instructions.\n",
       "</p>\n",
       "<p>\n",
       "  If you're reading this message in another frontend (for example, a static\n",
       "  rendering on GitHub or <a href=\"https://nbviewer.jupyter.org/\">NBViewer</a>),\n",
       "  it may mean that your frontend doesn't currently support widgets.\n",
       "</p>\n"
      ],
      "text/plain": [
       "HBox(children=(FloatProgress(value=0.0, description='dfull_sensor', max=536.0, style=ProgressStyle(description_width='initial')), HTML(value='')))"
      ]
     },
     "metadata": {},
     "output_type": "display_data"
    },
    {
     "name": "stdout",
     "output_type": "stream",
     "text": [
      "\n"
     ]
    },
    {
     "data": {
      "application/vnd.jupyter.widget-view+json": {
       "model_id": "567e93110de04e00a129b8a58e7a6b45",
       "version_major": 2,
       "version_minor": 0
      },
      "text/html": [
       "<p>Failed to display Jupyter Widget of type <code>HBox</code>.</p>\n",
       "<p>\n",
       "  If you're reading this message in the Jupyter Notebook or JupyterLab Notebook, it may mean\n",
       "  that the widgets JavaScript is still loading. If this message persists, it\n",
       "  likely means that the widgets JavaScript library is either not installed or\n",
       "  not enabled. See the <a href=\"https://ipywidgets.readthedocs.io/en/stable/user_install.html\">Jupyter\n",
       "  Widgets Documentation</a> for setup instructions.\n",
       "</p>\n",
       "<p>\n",
       "  If you're reading this message in another frontend (for example, a static\n",
       "  rendering on GitHub or <a href=\"https://nbviewer.jupyter.org/\">NBViewer</a>),\n",
       "  it may mean that your frontend doesn't currently support widgets.\n",
       "</p>\n"
      ],
      "text/plain": [
       "HBox(children=(FloatProgress(value=0.0, description='dactive_sensor', max=536.0, style=ProgressStyle(description_width='initial')), HTML(value='')))"
      ]
     },
     "metadata": {},
     "output_type": "display_data"
    },
    {
     "name": "stdout",
     "output_type": "stream",
     "text": [
      "\n"
     ]
    },
    {
     "data": {
      "application/vnd.jupyter.widget-view+json": {
       "model_id": "e8b60a8e9971439691073c0d3bb7deee",
       "version_major": 2,
       "version_minor": 0
      },
      "text/html": [
       "<p>Failed to display Jupyter Widget of type <code>HBox</code>.</p>\n",
       "<p>\n",
       "  If you're reading this message in the Jupyter Notebook or JupyterLab Notebook, it may mean\n",
       "  that the widgets JavaScript is still loading. If this message persists, it\n",
       "  likely means that the widgets JavaScript library is either not installed or\n",
       "  not enabled. See the <a href=\"https://ipywidgets.readthedocs.io/en/stable/user_install.html\">Jupyter\n",
       "  Widgets Documentation</a> for setup instructions.\n",
       "</p>\n",
       "<p>\n",
       "  If you're reading this message in another frontend (for example, a static\n",
       "  rendering on GitHub or <a href=\"https://nbviewer.jupyter.org/\">NBViewer</a>),\n",
       "  it may mean that your frontend doesn't currently support widgets.\n",
       "</p>\n"
      ],
      "text/plain": [
       "HBox(children=(FloatProgress(value=0.0, description='dbinding_site', max=536.0, style=ProgressStyle(description_width='initial')), HTML(value='')))"
      ]
     },
     "metadata": {},
     "output_type": "display_data"
    },
    {
     "name": "stdout",
     "output_type": "stream",
     "text": [
      "\n"
     ]
    },
    {
     "data": {
      "application/vnd.jupyter.widget-view+json": {
       "model_id": "5d9c13e825d74f0199cc247b9d6c94c2",
       "version_major": 2,
       "version_minor": 0
      },
      "text/html": [
       "<p>Failed to display Jupyter Widget of type <code>HBox</code>.</p>\n",
       "<p>\n",
       "  If you're reading this message in the Jupyter Notebook or JupyterLab Notebook, it may mean\n",
       "  that the widgets JavaScript is still loading. If this message persists, it\n",
       "  likely means that the widgets JavaScript library is either not installed or\n",
       "  not enabled. See the <a href=\"https://ipywidgets.readthedocs.io/en/stable/user_install.html\">Jupyter\n",
       "  Widgets Documentation</a> for setup instructions.\n",
       "</p>\n",
       "<p>\n",
       "  If you're reading this message in another frontend (for example, a static\n",
       "  rendering on GitHub or <a href=\"https://nbviewer.jupyter.org/\">NBViewer</a>),\n",
       "  it may mean that your frontend doesn't currently support widgets.\n",
       "</p>\n"
      ],
      "text/plain": [
       "HBox(children=(FloatProgress(value=0.0, description='Dg_RBS_linker', max=536.0, style=ProgressStyle(description_width='initial')), HTML(value='')))"
      ]
     },
     "metadata": {},
     "output_type": "display_data"
    },
    {
     "name": "stdout",
     "output_type": "stream",
     "text": [
      "\n"
     ]
    }
   ],
   "source": [
    "n = len(df.Triggers)\n",
    "dfull_sensor   = [complex_defect(df.iloc[i,2], secondary_sensor_B, \"Temp/\") for i in tnrange(n, desc='dfull_sensor')]\n",
    "dactive_sensor = [complex_defect(df.iloc[i,2][36::],Activated_THS_Structure,\"Temp/\") for i in tnrange(n, desc='dactive_sensor')]\n",
    "dbinding_site  = [complex_defect(df.iloc[i,2][0:25],linear_Structure_25,\"Temp/\") for i in tnrange(n, desc='dbinding_site')]\n",
    "Dg_RBS_linker  = [DG(df.iloc[i,2][48:96],\"Temp/\",1) for i in tnrange(n, desc='Dg_RBS_linker')]"
   ]
  },
  {
   "cell_type": "code",
   "execution_count": 25,
   "metadata": {},
   "outputs": [
    {
     "data": {
      "text/html": [
       "<div>\n",
       "<style scoped>\n",
       "    .dataframe tbody tr th:only-of-type {\n",
       "        vertical-align: middle;\n",
       "    }\n",
       "\n",
       "    .dataframe tbody tr th {\n",
       "        vertical-align: top;\n",
       "    }\n",
       "\n",
       "    .dataframe thead th {\n",
       "        text-align: right;\n",
       "    }\n",
       "</style>\n",
       "<table border=\"1\" class=\"dataframe\">\n",
       "  <thead>\n",
       "    <tr style=\"text-align: right;\">\n",
       "      <th></th>\n",
       "      <th>Triggers</th>\n",
       "      <th>Sense</th>\n",
       "      <th>Toehold Switch</th>\n",
       "      <th>dfull_sensor</th>\n",
       "      <th>dactive_sensor</th>\n",
       "      <th>dbinding_site</th>\n",
       "      <th>Dg_RBS_linker</th>\n",
       "      <th>score</th>\n",
       "    </tr>\n",
       "  </thead>\n",
       "  <tbody>\n",
       "    <tr>\n",
       "      <th>73</th>\n",
       "      <td>UCUUAUGUAAGACCUUGGGCAGGAUCUGAUGGGCGU</td>\n",
       "      <td>Reversed Complement</td>\n",
       "      <td>ACGCCCAUCAGAUCCUGCCCAAGGUCUUACAUAAGAGGACUUUAGA...</td>\n",
       "      <td>0.1586</td>\n",
       "      <td>0.4079</td>\n",
       "      <td>0.1164</td>\n",
       "      <td>-13.8</td>\n",
       "      <td>20.26985</td>\n",
       "    </tr>\n",
       "    <tr>\n",
       "      <th>73</th>\n",
       "      <td>CUCUCGGGGCCGCUUGGGACUCUCUCGUCCCCUUCU</td>\n",
       "      <td>Direct</td>\n",
       "      <td>AGAAGGGGACGAGAGAGUCCCAAGCGGCCCCGAGAGGGACUUUAGA...</td>\n",
       "      <td>0.1586</td>\n",
       "      <td>0.4079</td>\n",
       "      <td>0.1164</td>\n",
       "      <td>-13.8</td>\n",
       "      <td>20.26985</td>\n",
       "    </tr>\n",
       "    <tr>\n",
       "      <th>72</th>\n",
       "      <td>CCUCUCGGGGCCGCUUGGGACUCUCUCGUCCCCUUC</td>\n",
       "      <td>Direct</td>\n",
       "      <td>GAAGGGGACGAGAGAGUCCCAAGCGGCCCCGAGAGGGGACUUUAGA...</td>\n",
       "      <td>0.1839</td>\n",
       "      <td>0.3705</td>\n",
       "      <td>0.1234</td>\n",
       "      <td>-11.6</td>\n",
       "      <td>20.13398</td>\n",
       "    </tr>\n",
       "    <tr>\n",
       "      <th>72</th>\n",
       "      <td>CUCUUAUGUAAGACCUUGGGCAGGAUCUGAUGGGCG</td>\n",
       "      <td>Reversed Complement</td>\n",
       "      <td>CGCCCAUCAGAUCCUGCCCAAGGUCUUACAUAAGAGGGACUUUAGA...</td>\n",
       "      <td>0.1839</td>\n",
       "      <td>0.3705</td>\n",
       "      <td>0.1234</td>\n",
       "      <td>-11.6</td>\n",
       "      <td>20.13398</td>\n",
       "    </tr>\n",
       "    <tr>\n",
       "      <th>76</th>\n",
       "      <td>UAUGUAAGACCUUGGGCAGGAUCUGAUGGGCGUUCA</td>\n",
       "      <td>Reversed Complement</td>\n",
       "      <td>UGAACGCCCAUCAGAUCCUGCCCAAGGUCUUACAUAGGACUUUAGA...</td>\n",
       "      <td>0.1610</td>\n",
       "      <td>0.3937</td>\n",
       "      <td>0.1725</td>\n",
       "      <td>-8.1</td>\n",
       "      <td>19.52713</td>\n",
       "    </tr>\n",
       "  </tbody>\n",
       "</table>\n",
       "</div>"
      ],
      "text/plain": [
       "                                Triggers                Sense  \\\n",
       "73  UCUUAUGUAAGACCUUGGGCAGGAUCUGAUGGGCGU  Reversed Complement   \n",
       "73  CUCUCGGGGCCGCUUGGGACUCUCUCGUCCCCUUCU               Direct   \n",
       "72  CCUCUCGGGGCCGCUUGGGACUCUCUCGUCCCCUUC               Direct   \n",
       "72  CUCUUAUGUAAGACCUUGGGCAGGAUCUGAUGGGCG  Reversed Complement   \n",
       "76  UAUGUAAGACCUUGGGCAGGAUCUGAUGGGCGUUCA  Reversed Complement   \n",
       "\n",
       "                                       Toehold Switch  dfull_sensor  \\\n",
       "73  ACGCCCAUCAGAUCCUGCCCAAGGUCUUACAUAAGAGGACUUUAGA...        0.1586   \n",
       "73  AGAAGGGGACGAGAGAGUCCCAAGCGGCCCCGAGAGGGACUUUAGA...        0.1586   \n",
       "72  GAAGGGGACGAGAGAGUCCCAAGCGGCCCCGAGAGGGGACUUUAGA...        0.1839   \n",
       "72  CGCCCAUCAGAUCCUGCCCAAGGUCUUACAUAAGAGGGACUUUAGA...        0.1839   \n",
       "76  UGAACGCCCAUCAGAUCCUGCCCAAGGUCUUACAUAGGACUUUAGA...        0.1610   \n",
       "\n",
       "    dactive_sensor  dbinding_site  Dg_RBS_linker     score  \n",
       "73          0.4079         0.1164          -13.8  20.26985  \n",
       "73          0.4079         0.1164          -13.8  20.26985  \n",
       "72          0.3705         0.1234          -11.6  20.13398  \n",
       "72          0.3705         0.1234          -11.6  20.13398  \n",
       "76          0.3937         0.1725           -8.1  19.52713  "
      ]
     },
     "execution_count": 25,
     "metadata": {},
     "output_type": "execute_result"
    }
   ],
   "source": [
    "score = 54.3 - 71.7*np.array(dfull_sensor) -49.1*np.array(dactive_sensor) -22.6*np.array(dbinding_site)\n",
    "score_frame = pd.DataFrame(np.stack([dfull_sensor, dactive_sensor, dbinding_site, Dg_RBS_linker, score]).T, columns=['dfull_sensor', 'dactive_sensor', 'dbinding_site', 'Dg_RBS_linker', 'score'])\n",
    "sorted = df.join(score_frame).sort_values('score', ascending=False)\n",
    "sorted.head()"
   ]
  },
  {
   "cell_type": "markdown",
   "metadata": {},
   "source": [
    "## Save the output to a CSV"
   ]
  },
  {
   "cell_type": "code",
   "execution_count": 12,
   "metadata": {},
   "outputs": [],
   "source": [
    "sorted.to_csv(\"outputs/Ranked_designs.csv\")"
   ]
  }
 ],
 "metadata": {
  "kernelspec": {
   "display_name": "Python 3",
   "language": "python",
   "name": "python3"
  },
  "language_info": {
   "codemirror_mode": {
    "name": "ipython",
    "version": 3
   },
   "file_extension": ".py",
   "mimetype": "text/x-python",
   "name": "python",
   "nbconvert_exporter": "python",
   "pygments_lexer": "ipython3",
   "version": "3.6.4"
  }
 },
 "nbformat": 4,
 "nbformat_minor": 2
}
