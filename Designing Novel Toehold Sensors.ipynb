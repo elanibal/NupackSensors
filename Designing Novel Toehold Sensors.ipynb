{
 "cells": [
  {
   "cell_type": "markdown",
   "metadata": {},
   "source": [
    "# Designing Novel Toehold Sensors"
   ]
  },
  {
   "cell_type": "markdown",
   "metadata": {},
   "source": [
    "# Steps \n",
    "1. Define a specific target sequence\n",
    "2. Divide the sequence in windows of the same length of the trigger (36nt)\n",
    "3. For each possible trigger, define a toehold sensor sequence\n",
    "4. Filter sequences that contain stop codons\n",
    "5. Evaluate sequence properties using NUPACK and rank them"
   ]
  },
  {
   "cell_type": "markdown",
   "metadata": {},
   "source": [
    "### Import dependencies"
   ]
  },
  {
   "cell_type": "code",
   "execution_count": 1,
   "metadata": {},
   "outputs": [],
   "source": [
    "import os\n",
    "import os.path\n",
    "from subprocess import Popen, PIPE\n",
    "import numpy as np\n",
    "import pandas as pd\n",
    "import time\n",
    "from tqdm import tnrange, tqdm_notebook"
   ]
  },
  {
   "cell_type": "markdown",
   "metadata": {},
   "source": [
    "### Define library functions"
   ]
  },
  {
   "cell_type": "code",
   "execution_count": 2,
   "metadata": {},
   "outputs": [],
   "source": [
    "def reversed_complement(sequence):\n",
    "    mapping = {'A': 'U', 'G': 'C', 'U': 'A', 'C': 'G'}\n",
    "    sequence_upper = sequence.upper()\n",
    "\n",
    "    complement = ''\n",
    "    for c in sequence_upper:\n",
    "        complement += mapping[c]\n",
    "\n",
    "    # reverse the sequence\n",
    "    return complement[::-1]\n",
    "\n",
    "def split_sequence(sequence, window):\n",
    "    sequences = []\n",
    "    limit = len(sequence) - window + 1\n",
    "\n",
    "    for i in range(0, limit):\n",
    "        sequences.append(sequence[i:window + i])\n",
    "\n",
    "    return sequences\n",
    "\n",
    "def no_stop(sequence):\n",
    "    stop = ['UAA', 'UAG', 'UGA']\n",
    "\n",
    "    for i in range(0, len(sequence), 3):\n",
    "        if sequence[i:i + 3] in stop:\n",
    "            return False\n",
    "\n",
    "    return True\n",
    "\n",
    "def possible_toehold_B(reg, rev):\n",
    "    \n",
    "    #to avoid any posterior conflicts please write loops and linkers in RNA form!\n",
    "    \n",
    "    loop = 'GGACUUUAGAACAGAGGAGAUAAAGAUG' # The last three nucleotides is AUG, the start codon.\n",
    "    \n",
    "    linker = 'ACCUGGCGGCAGCGCAAGAAG'#( from Green paper 2019 se, NOTE THAT IT DOES NOT HAVE THE MOCLO SITE C,  AATG)\n",
    "    \n",
    "    #other linkers = \"AACCUGGCGGCAGCGCAAGAAGAUGCGUAAA\" \n",
    "    toeholds = []\n",
    "    for n in ['A', 'G', 'U', 'C']: \n",
    "        if no_stop(reg[0:11] + linker):\n",
    "            toeholds.append(rev + loop + reg[0:11] + linker)\n",
    "            return toeholds      \n",
    "    \n",
    "    toeholds.append(\"STOP\")\n",
    "    return toeholds\n"
   ]
  },
  {
   "cell_type": "markdown",
   "metadata": {},
   "source": [
    "### Step 1: Define a target sequence\n",
    "In this case, we use the  5' of the glycoprotein 1 from PVY:"
   ]
  },
  {
   "cell_type": "code",
   "execution_count": 3,
   "metadata": {},
   "outputs": [],
   "source": [
    "#seq = \"GGAGTTTGGGTTATGATGGATGGAGATGAACAAGTCGAATACCCACTGAAACCAATCGTTGAGAATGCAAAACCAACACTTAGGCAAATCATGGCACATTTCTCAGATGTTGCAGAAGCGTATATAGAAATGCGCAACAAAAAGGAACCATATATGCCACGATATGGTTTAGTTCGTAATCTGCGCGATGGAAGTTTGGCTCGCTATGCTTTTGACTTTTATG\"\n",
    "#seq= \"TGCAATGGGATAGAGCTGATCTGCCAGAGCACAGATTAGAAGCGATTTGTGCAGCAATGATAGAATCCTGGGGTTATTTTGAGTTAACGCACCAAATCAGGAGATTCTACTCATGGTTGTTGCAACAGCAACCTTTTTCAACGATAGC\"\n",
    "#seq= \"GGAGTTTGGGTTATGATGGATGGAGATGAACAAGTCGAATACCCACTGAAACCAATCGTTGAGAATGCAAAACCAACACTTAGGCAAATCATGGCACATTTCTCAGATGTTGCAGAAGCGTATATAGAAATGCGCAACAAAAAGGAACCATATATGCCACGATATGGTTTAGTTCGTAATCTGCGCGATGGAAGTTTGGCTCGCTATGCTTTTGACTTTTATGAAGTTAC\"\n",
    "seq = \"gtactgccaactggatccttcgcgggacgtcctttgtttacgtcccgtcggcgctgaatcccgcggacgacccctctcggggccgcttgggactctctcgtccccttctccgtctgccgttccagccgaccacggggcgcacctctctttacgcggtctccccgtctgtgccttctcatctgccggtccgtgtgcacttcgcttcacctctgcacgttgcatggagaccaccgtgaacgcccatcagatcctgcccaaggtcttacataagaggactcttggactcccagcaatgtcaacgaccgaccttgaggcctacttcaaagactgtgtgtttaaggactg\"\n"
   ]
  },
  {
   "cell_type": "markdown",
   "metadata": {},
   "source": [
    "Convert to RNA and determine the reverse complement."
   ]
  },
  {
   "cell_type": "code",
   "execution_count": 4,
   "metadata": {},
   "outputs": [],
   "source": [
    "processed_sequence = seq.upper().replace('T', 'U') #/.replace(' ', '')\n",
    "rc = reversed_complement(processed_sequence)"
   ]
  },
  {
   "cell_type": "markdown",
   "metadata": {},
   "source": [
    "### Step 2: Determine 36-nucleotide sub-sequences\n",
    "To do this, we make all possible triggers for the direct and reversed complementary sequence. \n",
    "¿How many sub-sequences of 36 nt do we need to analyze ?"
   ]
  },
  {
   "cell_type": "code",
   "execution_count": 5,
   "metadata": {},
   "outputs": [
    {
     "output_type": "execute_result",
     "data": {
      "text/plain": "310"
     },
     "metadata": {},
     "execution_count": 5
    }
   ],
   "source": [
    "len(split_sequence(rc,36))"
   ]
  },
  {
   "cell_type": "code",
   "execution_count": 6,
   "metadata": {},
   "outputs": [
    {
     "output_type": "execute_result",
     "data": {
      "text/plain": "                               Triggers   Sense\n0  GUACUGCCAACUGGAUCCUUCGCGGGACGUCCUUUG  Direct\n1  UACUGCCAACUGGAUCCUUCGCGGGACGUCCUUUGU  Direct\n2  ACUGCCAACUGGAUCCUUCGCGGGACGUCCUUUGUU  Direct\n3  CUGCCAACUGGAUCCUUCGCGGGACGUCCUUUGUUU  Direct\n4  UGCCAACUGGAUCCUUCGCGGGACGUCCUUUGUUUA  Direct",
      "text/html": "<div>\n<style scoped>\n    .dataframe tbody tr th:only-of-type {\n        vertical-align: middle;\n    }\n\n    .dataframe tbody tr th {\n        vertical-align: top;\n    }\n\n    .dataframe thead th {\n        text-align: right;\n    }\n</style>\n<table border=\"1\" class=\"dataframe\">\n  <thead>\n    <tr style=\"text-align: right;\">\n      <th></th>\n      <th>Triggers</th>\n      <th>Sense</th>\n    </tr>\n  </thead>\n  <tbody>\n    <tr>\n      <th>0</th>\n      <td>GUACUGCCAACUGGAUCCUUCGCGGGACGUCCUUUG</td>\n      <td>Direct</td>\n    </tr>\n    <tr>\n      <th>1</th>\n      <td>UACUGCCAACUGGAUCCUUCGCGGGACGUCCUUUGU</td>\n      <td>Direct</td>\n    </tr>\n    <tr>\n      <th>2</th>\n      <td>ACUGCCAACUGGAUCCUUCGCGGGACGUCCUUUGUU</td>\n      <td>Direct</td>\n    </tr>\n    <tr>\n      <th>3</th>\n      <td>CUGCCAACUGGAUCCUUCGCGGGACGUCCUUUGUUU</td>\n      <td>Direct</td>\n    </tr>\n    <tr>\n      <th>4</th>\n      <td>UGCCAACUGGAUCCUUCGCGGGACGUCCUUUGUUUA</td>\n      <td>Direct</td>\n    </tr>\n  </tbody>\n</table>\n</div>"
     },
     "metadata": {},
     "execution_count": 6
    }
   ],
   "source": [
    "d_1 = {'Triggers': split_sequence(processed_sequence,36)}\n",
    "df_1 = pd.DataFrame(data=d_1)\n",
    "df_1[\"Sense\"]=\"Direct\"\n",
    "\n",
    "d_2 = {'Triggers': split_sequence(rc,36)}\n",
    "df_2 = pd.DataFrame(data=d_2)\n",
    "df_2[\"Sense\"]=\"Reversed Complement\"\n",
    "frames = [df_1, df_2]\n",
    "result = pd.concat(frames)\n",
    "result.head()"
   ]
  },
  {
   "cell_type": "markdown",
   "metadata": {},
   "source": [
    "### Step 3: For each trigger, design a toehold sensor"
   ]
  },
  {
   "cell_type": "code",
   "execution_count": 7,
   "metadata": {},
   "outputs": [
    {
     "output_type": "execute_result",
     "data": {
      "text/plain": "                               Triggers   Sense  \\\n0  GUACUGCCAACUGGAUCCUUCGCGGGACGUCCUUUG  Direct   \n1  UACUGCCAACUGGAUCCUUCGCGGGACGUCCUUUGU  Direct   \n2  ACUGCCAACUGGAUCCUUCGCGGGACGUCCUUUGUU  Direct   \n3  CUGCCAACUGGAUCCUUCGCGGGACGUCCUUUGUUU  Direct   \n4  UGCCAACUGGAUCCUUCGCGGGACGUCCUUUGUUUA  Direct   \n\n                                      Toehold Switch  \n0  CAAAGGACGUCCCGCGAAGGAUCCAGUUGGCAGUACGGACUUUAGA...  \n1  ACAAAGGACGUCCCGCGAAGGAUCCAGUUGGCAGUAGGACUUUAGA...  \n2                                               STOP  \n3  AAACAAAGGACGUCCCGCGAAGGAUCCAGUUGGCAGGGACUUUAGA...  \n4  UAAACAAAGGACGUCCCGCGAAGGAUCCAGUUGGCAGGACUUUAGA...  ",
      "text/html": "<div>\n<style scoped>\n    .dataframe tbody tr th:only-of-type {\n        vertical-align: middle;\n    }\n\n    .dataframe tbody tr th {\n        vertical-align: top;\n    }\n\n    .dataframe thead th {\n        text-align: right;\n    }\n</style>\n<table border=\"1\" class=\"dataframe\">\n  <thead>\n    <tr style=\"text-align: right;\">\n      <th></th>\n      <th>Triggers</th>\n      <th>Sense</th>\n      <th>Toehold Switch</th>\n    </tr>\n  </thead>\n  <tbody>\n    <tr>\n      <th>0</th>\n      <td>GUACUGCCAACUGGAUCCUUCGCGGGACGUCCUUUG</td>\n      <td>Direct</td>\n      <td>CAAAGGACGUCCCGCGAAGGAUCCAGUUGGCAGUACGGACUUUAGA...</td>\n    </tr>\n    <tr>\n      <th>1</th>\n      <td>UACUGCCAACUGGAUCCUUCGCGGGACGUCCUUUGU</td>\n      <td>Direct</td>\n      <td>ACAAAGGACGUCCCGCGAAGGAUCCAGUUGGCAGUAGGACUUUAGA...</td>\n    </tr>\n    <tr>\n      <th>2</th>\n      <td>ACUGCCAACUGGAUCCUUCGCGGGACGUCCUUUGUU</td>\n      <td>Direct</td>\n      <td>STOP</td>\n    </tr>\n    <tr>\n      <th>3</th>\n      <td>CUGCCAACUGGAUCCUUCGCGGGACGUCCUUUGUUU</td>\n      <td>Direct</td>\n      <td>AAACAAAGGACGUCCCGCGAAGGAUCCAGUUGGCAGGGACUUUAGA...</td>\n    </tr>\n    <tr>\n      <th>4</th>\n      <td>UGCCAACUGGAUCCUUCGCGGGACGUCCUUUGUUUA</td>\n      <td>Direct</td>\n      <td>UAAACAAAGGACGUCCCGCGAAGGAUCCAGUUGGCAGGACUUUAGA...</td>\n    </tr>\n  </tbody>\n</table>\n</div>"
     },
     "metadata": {},
     "execution_count": 7
    }
   ],
   "source": [
    "toeholds = [possible_toehold_B(r,reversed_complement(r))[0] for r in result['Triggers']]\n",
    "result[\"Toehold Switch\"] = toeholds\n",
    "result.head()"
   ]
  },
  {
   "cell_type": "markdown",
   "metadata": {},
   "source": [
    "### Step 4: Remove sensors with STOP codons"
   ]
  },
  {
   "cell_type": "code",
   "execution_count": 8,
   "metadata": {},
   "outputs": [
    {
     "output_type": "execute_result",
     "data": {
      "text/plain": "                               Triggers   Sense  \\\n0  GUACUGCCAACUGGAUCCUUCGCGGGACGUCCUUUG  Direct   \n1  UACUGCCAACUGGAUCCUUCGCGGGACGUCCUUUGU  Direct   \n3  CUGCCAACUGGAUCCUUCGCGGGACGUCCUUUGUUU  Direct   \n4  UGCCAACUGGAUCCUUCGCGGGACGUCCUUUGUUUA  Direct   \n5  GCCAACUGGAUCCUUCGCGGGACGUCCUUUGUUUAC  Direct   \n\n                                      Toehold Switch  \n0  CAAAGGACGUCCCGCGAAGGAUCCAGUUGGCAGUACGGACUUUAGA...  \n1  ACAAAGGACGUCCCGCGAAGGAUCCAGUUGGCAGUAGGACUUUAGA...  \n3  AAACAAAGGACGUCCCGCGAAGGAUCCAGUUGGCAGGGACUUUAGA...  \n4  UAAACAAAGGACGUCCCGCGAAGGAUCCAGUUGGCAGGACUUUAGA...  \n5  GUAAACAAAGGACGUCCCGCGAAGGAUCCAGUUGGCGGACUUUAGA...  ",
      "text/html": "<div>\n<style scoped>\n    .dataframe tbody tr th:only-of-type {\n        vertical-align: middle;\n    }\n\n    .dataframe tbody tr th {\n        vertical-align: top;\n    }\n\n    .dataframe thead th {\n        text-align: right;\n    }\n</style>\n<table border=\"1\" class=\"dataframe\">\n  <thead>\n    <tr style=\"text-align: right;\">\n      <th></th>\n      <th>Triggers</th>\n      <th>Sense</th>\n      <th>Toehold Switch</th>\n    </tr>\n  </thead>\n  <tbody>\n    <tr>\n      <th>0</th>\n      <td>GUACUGCCAACUGGAUCCUUCGCGGGACGUCCUUUG</td>\n      <td>Direct</td>\n      <td>CAAAGGACGUCCCGCGAAGGAUCCAGUUGGCAGUACGGACUUUAGA...</td>\n    </tr>\n    <tr>\n      <th>1</th>\n      <td>UACUGCCAACUGGAUCCUUCGCGGGACGUCCUUUGU</td>\n      <td>Direct</td>\n      <td>ACAAAGGACGUCCCGCGAAGGAUCCAGUUGGCAGUAGGACUUUAGA...</td>\n    </tr>\n    <tr>\n      <th>3</th>\n      <td>CUGCCAACUGGAUCCUUCGCGGGACGUCCUUUGUUU</td>\n      <td>Direct</td>\n      <td>AAACAAAGGACGUCCCGCGAAGGAUCCAGUUGGCAGGGACUUUAGA...</td>\n    </tr>\n    <tr>\n      <th>4</th>\n      <td>UGCCAACUGGAUCCUUCGCGGGACGUCCUUUGUUUA</td>\n      <td>Direct</td>\n      <td>UAAACAAAGGACGUCCCGCGAAGGAUCCAGUUGGCAGGACUUUAGA...</td>\n    </tr>\n    <tr>\n      <th>5</th>\n      <td>GCCAACUGGAUCCUUCGCGGGACGUCCUUUGUUUAC</td>\n      <td>Direct</td>\n      <td>GUAAACAAAGGACGUCCCGCGAAGGAUCCAGUUGGCGGACUUUAGA...</td>\n    </tr>\n  </tbody>\n</table>\n</div>"
     },
     "metadata": {},
     "execution_count": 8
    }
   ],
   "source": [
    "df = result[result.iloc[:,2] != \"STOP\"]\n",
    "df.head()"
   ]
  },
  {
   "cell_type": "markdown",
   "metadata": {},
   "source": [
    "### Step 5: Evaluate sequence properties using NUPACK \n",
    "\n",
    "Some scoring functions from Ma, D, et al. 2018):\n",
    "- Three-parameter fit (R2 = 0.57):\n",
    "- Fold change = –71.7 dfull_sensor  – 49.1 dactive_sensor – 22.6 dbinding_site + 54.3\n",
    "\n",
    "- Four-parameter fit (R2 = 0.60):\n",
    "- Fold change = –93.2 dfull_sensor – 43.3 dactive_sensor – 22.1 dbinding_site – 9.4 dmin_target + 61.3\n",
    "\n",
    "Definitions:\n",
    "- Ensemble Defect: Represents the average number of incorrectly paired nucleotides at equilibrium, evaluated over the ensemble of the complex.\n",
    "- dfull_sensor:  Ensemble defect for the full toehold switch sequence and structure. \n",
    "- dactive_sensor: Ensemble defect was calculated directly from the sequence from the first base of the loop sequence. A completely single-stranded secondary structure was used for assessing design quality for dactive_sensor.\n",
    "- dbinding_site: Ensemble defect was calculated in an analogous manner using the pairwise binding probabilities of the complete target RNA sequence and specifying a completely single-stranded ideal secondary structure in the binding site region."
   ]
  },
  {
   "cell_type": "markdown",
   "metadata": {},
   "source": [
    "#### Library functions\n",
    "- Calculation of the minimum free energy (MFE) secondary structure of a singular RNA sequence\n",
    "- NUPACK analysis"
   ]
  },
  {
   "cell_type": "code",
   "execution_count": 9,
   "metadata": {},
   "outputs": [],
   "source": [
    "def DG(sequence,result_path,wait):\n",
    "    file = open('{}pipo.in'.format(result_path), 'w')\n",
    "    file.write(\"{}\\n\".format(sequence))\n",
    "    file.close()\n",
    "    final=[]\n",
    "    semi_final=[]\n",
    "\n",
    "    Popen([\"mfe -T 29 {}pipo\".format(result_path)],shell=True, stdout=PIPE)\n",
    "    time.sleep(wait)\n",
    "    lenght=len(sequence)\n",
    "    with open(\"{}pipo.mfe\".format(result_path)) as res:\n",
    "        for r in res:\n",
    "            r = r.strip('\\n')\n",
    "            if not r.startswith('%'):\n",
    "                r = r.split('\\t')\n",
    "                semi_final.append(r)\n",
    "\n",
    "    #final.append()                \n",
    "\n",
    "    os.remove(\"{}pipo.mfe\".format(result_path,))\n",
    "    os.remove(\"{}pipo.in\".format(result_path))\n",
    "    return (float(semi_final[2][0]))\n",
    "    \n",
    "def complex_defect(sequence, secondary, result_path):\n",
    "    file = open('{}toeh.in'.format(result_path), 'w')\n",
    "    file.write(\"{}\\n\".format(sequence))\n",
    "    file.write(\"{}\".format(secondary))\n",
    "    file.close()\n",
    "\n",
    "    defect_toeh = 0\n",
    "    count = 0\n",
    "    with Popen([\"complexdefect\", \"{}toeh\".format(result_path)], stdout=PIPE) as proc:\n",
    "        res = (proc.stdout.read()).decode(\"utf-8\").split('\\n')\n",
    "        for l in res:\n",
    "            count += 1\n",
    "            if count == 16:\n",
    "                defect_toeh = float(l)\n",
    "\n",
    "    os.remove(\"{}toeh.in\".format(result_path))\n",
    "    return defect_toeh\n",
    "\n",
    "def nupack_analysis(sequence, secondary_sensor,  window, sensor_type, result_path):\n",
    "    list_for_table = []\n",
    "\n",
    "    processed_sequence = sequence.upper().replace('T', 'U').replace(' ', '')\n",
    "    reg_sequences = split_sequence(processed_sequence, window)\n",
    "    rev_comp_sequences = [reversed_complement(s) for s in reg_sequences]\n",
    "\n",
    "    if sensor_type == 'A':\n",
    "        target_toehold_map = possible_toehold_A(reg_sequences, rev_comp_sequences)\n",
    "    else:\n",
    "        target_toehold_map = possible_toehold_B(reg_sequences, rev_comp_sequences)\n",
    "\n",
    "    sequence = sequence.upper().replace('T', 'U')\n",
    "    single_streadness_sequence = single_streadness(sequence, result_path, wait=6)\n",
    "    for target, toehold in target_toehold_map.items():\n",
    "        id = sequence.index(target)\n",
    "\n",
    "        target_defect = sum(single_streadness_sequence[id:id+36])/36\n",
    "        toehold_defect = sum(single_streadness(toehold, result_path)[0:30])/30\n",
    "        sensor_defect = complex_defect(toehold, secondary_sensor, result_path)\n",
    "\n",
    "        score = 5*(1-target_defect) + 4*(1-toehold_defect) + 3*sensor_defect\n",
    "\n",
    "        list_for_table.append(tuple([target[0:36], toehold, 1-target_defect, 1-toehold_defect, sensor_defect, score]))\n",
    "\n",
    "    return list_for_table\n",
    "\n",
    "linear_Structure=\"............................................................\"\n",
    "linear_Structure_25=\".........................\"\n",
    "secondary_sensor_B = '.........................(((((((((((...(((((............)))))...))))))))))).....................'\n",
    "secondary_2=\".......................................(((((............)))))....................................+....................................\""
   ]
  },
  {
   "cell_type": "markdown",
   "metadata": {},
   "source": [
    "#### Calculation of the thermodynamic parameters for each design"
   ]
  },
  {
   "cell_type": "code",
   "execution_count": 10,
   "metadata": {
    "tags": []
   },
   "outputs": [
    {
     "output_type": "display_data",
     "data": {
      "text/plain": "HBox(children=(FloatProgress(value=0.0, description='dfull_sensor', max=536.0, style=ProgressStyle(description…",
      "application/vnd.jupyter.widget-view+json": {
       "version_major": 2,
       "version_minor": 0,
       "model_id": "515b117a16624a979291eec2c68f1e5f"
      }
     },
     "metadata": {}
    },
    {
     "output_type": "stream",
     "name": "stdout",
     "text": "\n"
    },
    {
     "output_type": "display_data",
     "data": {
      "text/plain": "HBox(children=(FloatProgress(value=0.0, description='dactive_sensor', max=536.0, style=ProgressStyle(descripti…",
      "application/vnd.jupyter.widget-view+json": {
       "version_major": 2,
       "version_minor": 0,
       "model_id": "3684241c911548679205c6379d9f3bd2"
      }
     },
     "metadata": {}
    },
    {
     "output_type": "stream",
     "name": "stdout",
     "text": "\n"
    },
    {
     "output_type": "display_data",
     "data": {
      "text/plain": "HBox(children=(FloatProgress(value=0.0, description='dbinding_site', max=536.0, style=ProgressStyle(descriptio…",
      "application/vnd.jupyter.widget-view+json": {
       "version_major": 2,
       "version_minor": 0,
       "model_id": "18db883060bc493397095ee5ca48db28"
      }
     },
     "metadata": {}
    },
    {
     "output_type": "stream",
     "name": "stdout",
     "text": "\n"
    },
    {
     "output_type": "display_data",
     "data": {
      "text/plain": "HBox(children=(FloatProgress(value=0.0, description='Dg_RBS_linker', max=536.0, style=ProgressStyle(descriptio…",
      "application/vnd.jupyter.widget-view+json": {
       "version_major": 2,
       "version_minor": 0,
       "model_id": "f21b418c1b0a45b68f09aef70ca35796"
      }
     },
     "metadata": {}
    },
    {
     "output_type": "stream",
     "name": "stdout",
     "text": "\n"
    }
   ],
   "source": [
    "n = len(df.Triggers)\n",
    "dfull_sensor   = [complex_defect(df.iloc[i,2], secondary_sensor_B, \"Temp/\") for i in tnrange(n, desc='dfull_sensor')]\n",
    "dactive_sensor = [complex_defect(df.iloc[i,2][36::],linear_Structure,\"Temp/\") for i in tnrange(n, desc='dactive_sensor')]\n",
    "dbinding_site  = [complex_defect(df.iloc[i,2][0:25],linear_Structure_25,\"Temp/\") for i in tnrange(n, desc='dbinding_site')]\n",
    "Dg_RBS_linker  = [DG(df.iloc[i,2][48:96],\"Temp/\",2) for i in tnrange(n, desc='Dg_RBS_linker')]"
   ]
  },
  {
   "cell_type": "code",
   "execution_count": 11,
   "metadata": {},
   "outputs": [
    {
     "output_type": "execute_result",
     "data": {
      "text/plain": "                                Triggers                Sense  \\\n77  CGGGGCCGCUUGGGACUCUCUCGUCCCCUUCUCCGU               Direct   \n76  UCGGGGCCGCUUGGGACUCUCUCGUCCCCUUCUCCG               Direct   \n76  UAUGUAAGACCUUGGGCAGGAUCUGAUGGGCGUUCA  Reversed Complement   \n78  UGUAAGACCUUGGGCAGGAUCUGAUGGGCGUUCACG  Reversed Complement   \n73  UCUUAUGUAAGACCUUGGGCAGGAUCUGAUGGGCGU  Reversed Complement   \n\n                                       Toehold Switch  dfull_sensor  \\\n77  ACGGAGAAGGGGACGAGAGAGUCCCAAGCGGCCCCGGGACUUUAGA...        0.1631   \n76  CGGAGAAGGGGACGAGAGAGUCCCAAGCGGCCCCGAGGACUUUAGA...        0.1610   \n76  UGAACGCCCAUCAGAUCCUGCCCAAGGUCUUACAUAGGACUUUAGA...        0.1610   \n78  CGUGAACGCCCAUCAGAUCCUGCCCAAGGUCUUACAGGACUUUAGA...        0.1623   \n73  ACGCCCAUCAGAUCCUGCCCAAGGUCUUACAUAAGAGGACUUUAGA...        0.1586   \n\n    dactive_sensor  dbinding_site  Dg_RBS_linker     score  \n77          0.3812         0.1725        -10.214  19.99031  \n76          0.3854         0.1725        -10.519  19.93466  \n76          0.3854         0.1725        -10.519  19.93466  \n78          0.3882         0.1732        -10.935  19.68815  \n73          0.4262         0.1164        -16.207  19.37132  ",
      "text/html": "<div>\n<style scoped>\n    .dataframe tbody tr th:only-of-type {\n        vertical-align: middle;\n    }\n\n    .dataframe tbody tr th {\n        vertical-align: top;\n    }\n\n    .dataframe thead th {\n        text-align: right;\n    }\n</style>\n<table border=\"1\" class=\"dataframe\">\n  <thead>\n    <tr style=\"text-align: right;\">\n      <th></th>\n      <th>Triggers</th>\n      <th>Sense</th>\n      <th>Toehold Switch</th>\n      <th>dfull_sensor</th>\n      <th>dactive_sensor</th>\n      <th>dbinding_site</th>\n      <th>Dg_RBS_linker</th>\n      <th>score</th>\n    </tr>\n  </thead>\n  <tbody>\n    <tr>\n      <th>77</th>\n      <td>CGGGGCCGCUUGGGACUCUCUCGUCCCCUUCUCCGU</td>\n      <td>Direct</td>\n      <td>ACGGAGAAGGGGACGAGAGAGUCCCAAGCGGCCCCGGGACUUUAGA...</td>\n      <td>0.1631</td>\n      <td>0.3812</td>\n      <td>0.1725</td>\n      <td>-10.214</td>\n      <td>19.99031</td>\n    </tr>\n    <tr>\n      <th>76</th>\n      <td>UCGGGGCCGCUUGGGACUCUCUCGUCCCCUUCUCCG</td>\n      <td>Direct</td>\n      <td>CGGAGAAGGGGACGAGAGAGUCCCAAGCGGCCCCGAGGACUUUAGA...</td>\n      <td>0.1610</td>\n      <td>0.3854</td>\n      <td>0.1725</td>\n      <td>-10.519</td>\n      <td>19.93466</td>\n    </tr>\n    <tr>\n      <th>76</th>\n      <td>UAUGUAAGACCUUGGGCAGGAUCUGAUGGGCGUUCA</td>\n      <td>Reversed Complement</td>\n      <td>UGAACGCCCAUCAGAUCCUGCCCAAGGUCUUACAUAGGACUUUAGA...</td>\n      <td>0.1610</td>\n      <td>0.3854</td>\n      <td>0.1725</td>\n      <td>-10.519</td>\n      <td>19.93466</td>\n    </tr>\n    <tr>\n      <th>78</th>\n      <td>UGUAAGACCUUGGGCAGGAUCUGAUGGGCGUUCACG</td>\n      <td>Reversed Complement</td>\n      <td>CGUGAACGCCCAUCAGAUCCUGCCCAAGGUCUUACAGGACUUUAGA...</td>\n      <td>0.1623</td>\n      <td>0.3882</td>\n      <td>0.1732</td>\n      <td>-10.935</td>\n      <td>19.68815</td>\n    </tr>\n    <tr>\n      <th>73</th>\n      <td>UCUUAUGUAAGACCUUGGGCAGGAUCUGAUGGGCGU</td>\n      <td>Reversed Complement</td>\n      <td>ACGCCCAUCAGAUCCUGCCCAAGGUCUUACAUAAGAGGACUUUAGA...</td>\n      <td>0.1586</td>\n      <td>0.4262</td>\n      <td>0.1164</td>\n      <td>-16.207</td>\n      <td>19.37132</td>\n    </tr>\n  </tbody>\n</table>\n</div>"
     },
     "metadata": {},
     "execution_count": 11
    }
   ],
   "source": [
    "score = 54.3 - 71.7*np.array(dfull_sensor) -49.1*np.array(dactive_sensor) -22.6*np.array(dbinding_site)\n",
    "score_frame = pd.DataFrame(np.stack([dfull_sensor, dactive_sensor, dbinding_site, Dg_RBS_linker, score]).T, columns=['dfull_sensor', 'dactive_sensor', 'dbinding_site', 'Dg_RBS_linker', 'score'])\n",
    "sorted = df.join(score_frame).sort_values('score', ascending=False)\n",
    "sorted.head()"
   ]
  },
  {
   "cell_type": "markdown",
   "metadata": {},
   "source": [
    "## Save the output to a CSV"
   ]
  },
  {
   "cell_type": "code",
   "execution_count": 12,
   "metadata": {},
   "outputs": [],
   "source": [
    "sorted.to_csv(\"outputs/Ranked_designs.csv\")"
   ]
  }
 ],
 "metadata": {
  "kernelspec": {
   "display_name": "Python 3",
   "language": "python",
   "name": "python3"
  },
  "language_info": {
   "codemirror_mode": {
    "name": "ipython",
    "version": 3
   },
   "file_extension": ".py",
   "mimetype": "text/x-python",
   "name": "python",
   "nbconvert_exporter": "python",
   "pygments_lexer": "ipython3",
   "version": "3.7.8-final"
  }
 },
 "nbformat": 4,
 "nbformat_minor": 2
}